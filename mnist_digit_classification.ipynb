{
 "cells": [
  {
   "cell_type": "markdown",
   "metadata": {},
   "source": [
    "# MNIST Handwritten Digit Classification using Deep Learning Neural Network"
   ]
  },
  {
   "cell_type": "code",
   "execution_count": 1,
   "metadata": {},
   "outputs": [],
   "source": [
    "import numpy as np\n",
    "import pandas as pd\n",
    "import matplotlib.pyplot as plt\n",
    "import seaborn as sns\n",
    "import cv2\n",
    "from PIL import Image\n",
    "import tensorflow as tf\n",
    "tf.random.set_seed(1111)\n",
    "from tensorflow import keras\n",
    "from keras.datasets import mnist\n",
    "from sklearn.metrics import confusion_matrix"
   ]
  },
  {
   "cell_type": "markdown",
   "metadata": {},
   "source": [
    "Loading the MNIST Data from keras.datasets"
   ]
  },
  {
   "cell_type": "code",
   "execution_count": 2,
   "metadata": {},
   "outputs": [],
   "source": [
    "(X_train, y_train), (X_test, y_test) = mnist.load_data()"
   ]
  },
  {
   "cell_type": "code",
   "execution_count": 3,
   "metadata": {},
   "outputs": [
    {
     "data": {
      "text/plain": [
       "numpy.ndarray"
      ]
     },
     "execution_count": 3,
     "metadata": {},
     "output_type": "execute_result"
    }
   ],
   "source": [
    "type(X_train)"
   ]
  },
  {
   "cell_type": "code",
   "execution_count": 4,
   "metadata": {},
   "outputs": [
    {
     "name": "stdout",
     "output_type": "stream",
     "text": [
      "(60000, 28, 28) (60000,) (10000, 28, 28) (10000,)\n"
     ]
    }
   ],
   "source": [
    "print(X_train.shape, y_train.shape, X_test.shape, y_test.shape)"
   ]
  },
  {
   "cell_type": "markdown",
   "metadata": {},
   "source": [
    "Training Data = 60,000 Images\n",
    "\n",
    "Test Data = 10,000 Images\n",
    "\n",
    "\n",
    "Single Image Dimension -> 28 X 28\n",
    "\n",
    "Grayscale Image -> 1 Channel"
   ]
  },
  {
   "cell_type": "code",
   "execution_count": 5,
   "metadata": {},
   "outputs": [
    {
     "name": "stdout",
     "output_type": "stream",
     "text": [
      "[[  0   0   0   0   0   0   0   0   0   0   0   0   0   0   0   0   0   0\n",
      "    0   0   0   0   0   0   0   0   0   0]\n",
      " [  0   0   0   0   0   0   0   0   0   0   0   0   0   0   0   0   0   0\n",
      "    0   0   0   0   0   0   0   0   0   0]\n",
      " [  0   0   0   0   0   0   0   0   0   0   0   0   0   0   0   0   0   0\n",
      "    0   0   0   0   0   0   0   0   0   0]\n",
      " [  0   0   0   0   0   0   0   0   0   0   0   0   0   0   0   0   0   0\n",
      "    0   0   0   0   0   0   0   0   0   0]\n",
      " [  0   0   0   0   0   0   0   0   0   0   0  42 118 219 166 118 118   6\n",
      "    0   0   0   0   0   0   0   0   0   0]\n",
      " [  0   0   0   0   0   0   0   0   0   0 103 242 254 254 254 254 254  66\n",
      "    0   0   0   0   0   0   0   0   0   0]\n",
      " [  0   0   0   0   0   0   0   0   0   0  18 232 254 254 254 254 254 238\n",
      "   70   0   0   0   0   0   0   0   0   0]\n",
      " [  0   0   0   0   0   0   0   0   0   0   0 104 244 254 224 254 254 254\n",
      "  141   0   0   0   0   0   0   0   0   0]\n",
      " [  0   0   0   0   0   0   0   0   0   0   0   0 207 254 210 254 254 254\n",
      "   34   0   0   0   0   0   0   0   0   0]\n",
      " [  0   0   0   0   0   0   0   0   0   0   0   0  84 206 254 254 254 254\n",
      "   41   0   0   0   0   0   0   0   0   0]\n",
      " [  0   0   0   0   0   0   0   0   0   0   0   0   0  24 209 254 254 254\n",
      "  171   0   0   0   0   0   0   0   0   0]\n",
      " [  0   0   0   0   0   0   0   0   0   0   0   0  91 137 253 254 254 254\n",
      "  112   0   0   0   0   0   0   0   0   0]\n",
      " [  0   0   0   0   0   0   0   0   0   0  40 214 250 254 254 254 254 254\n",
      "   34   0   0   0   0   0   0   0   0   0]\n",
      " [  0   0   0   0   0   0   0   0   0   0  81 247 254 254 254 254 254 254\n",
      "  146   0   0   0   0   0   0   0   0   0]\n",
      " [  0   0   0   0   0   0   0   0   0   0   0 110 246 254 254 254 254 254\n",
      "  171   0   0   0   0   0   0   0   0   0]\n",
      " [  0   0   0   0   0   0   0   0   0   0   0   0  73  89  89  93 240 254\n",
      "  171   0   0   0   0   0   0   0   0   0]\n",
      " [  0   0   0   0   0   0   0   0   0   0   0   0   0   0   0   1 128 254\n",
      "  219  31   0   0   0   0   0   0   0   0]\n",
      " [  0   0   0   0   0   0   0   0   0   0   0   0   0   0   0   7 254 254\n",
      "  214  28   0   0   0   0   0   0   0   0]\n",
      " [  0   0   0   0   0   0   0   0   0   0   0   0   0   0   0 138 254 254\n",
      "  116   0   0   0   0   0   0   0   0   0]\n",
      " [  0   0   0   0   0   0  19 177  90   0   0   0   0   0  25 240 254 254\n",
      "   34   0   0   0   0   0   0   0   0   0]\n",
      " [  0   0   0   0   0   0 164 254 215  63  36   0  51  89 206 254 254 139\n",
      "    8   0   0   0   0   0   0   0   0   0]\n",
      " [  0   0   0   0   0   0  57 197 254 254 222 180 241 254 254 253 213  11\n",
      "    0   0   0   0   0   0   0   0   0   0]\n",
      " [  0   0   0   0   0   0   0 140 105 254 254 254 254 254 254 236   0   0\n",
      "    0   0   0   0   0   0   0   0   0   0]\n",
      " [  0   0   0   0   0   0   0   0   7 117 117 165 254 254 239  50   0   0\n",
      "    0   0   0   0   0   0   0   0   0   0]\n",
      " [  0   0   0   0   0   0   0   0   0   0   0   0   0   0   0   0   0   0\n",
      "    0   0   0   0   0   0   0   0   0   0]\n",
      " [  0   0   0   0   0   0   0   0   0   0   0   0   0   0   0   0   0   0\n",
      "    0   0   0   0   0   0   0   0   0   0]\n",
      " [  0   0   0   0   0   0   0   0   0   0   0   0   0   0   0   0   0   0\n",
      "    0   0   0   0   0   0   0   0   0   0]\n",
      " [  0   0   0   0   0   0   0   0   0   0   0   0   0   0   0   0   0   0\n",
      "    0   0   0   0   0   0   0   0   0   0]]\n"
     ]
    }
   ],
   "source": [
    "# Printing the 10th image\n",
    "print(X_train[10])"
   ]
  },
  {
   "cell_type": "code",
   "execution_count": 6,
   "metadata": {},
   "outputs": [
    {
     "name": "stdout",
     "output_type": "stream",
     "text": [
      "(28, 28)\n"
     ]
    }
   ],
   "source": [
    "print(X_train[10].shape)"
   ]
  },
  {
   "cell_type": "code",
   "execution_count": 7,
   "metadata": {},
   "outputs": [
    {
     "data": {
      "image/png": "[encoded data removed]",
      "text/plain": [
       "<Figure size 640x480 with 1 Axes>"
      ]
     },
     "metadata": {},
     "output_type": "display_data"
    },
    {
     "name": "stdout",
     "output_type": "stream",
     "text": [
      "9\n"
     ]
    }
   ],
   "source": [
    "# Displaying the image\n",
    "plt.imshow(X_train[33])\n",
    "plt.show()\n",
    "\n",
    "# Displaying label\n",
    "print(y_train[33])"
   ]
  },
  {
   "cell_type": "markdown",
   "metadata": {},
   "source": [
    "Images Labels"
   ]
  },
  {
   "cell_type": "code",
   "execution_count": 8,
   "metadata": {},
   "outputs": [
    {
     "name": "stdout",
     "output_type": "stream",
     "text": [
      "(60000,) (10000,)\n"
     ]
    }
   ],
   "source": [
    "print(y_train.shape, y_test.shape)"
   ]
  },
  {
   "cell_type": "code",
   "execution_count": 9,
   "metadata": {},
   "outputs": [
    {
     "name": "stdout",
     "output_type": "stream",
     "text": [
      "[0 1 2 3 4 5 6 7 8 9]\n",
      "[0 1 2 3 4 5 6 7 8 9]\n"
     ]
    }
   ],
   "source": [
    "# Unique values in y_train\n",
    "print(np.unique(y_train))\n",
    "\n",
    "# Unique values in y_test\n",
    "print(np.unique(y_test))"
   ]
  },
  {
   "cell_type": "markdown",
   "metadata": {},
   "source": [
    "We can use these labels as such or we can also apply One Hot Encoding\n"
   ]
  },
  {
   "cell_type": "markdown",
   "metadata": {},
   "source": [
    "All the images have the same dimensions in this dataset, If not, we have to resize all the images to a common dimension"
   ]
  },
  {
   "cell_type": "code",
   "execution_count": 10,
   "metadata": {},
   "outputs": [
    {
     "name": "stdout",
     "output_type": "stream",
     "text": [
      "[[  0   0   0   0   0   0   0   0   0   0   0   0   0   0   0   0   0   0\n",
      "    0   0   0   0   0   0   0   0   0   0]\n",
      " [  0   0   0   0   0   0   0   0   0   0   0   0   0   0   0   0   0   0\n",
      "    0   0   0   0   0   0   0   0   0   0]\n",
      " [  0   0   0   0   0   0   0   0   0   0   0   0   0   0   0   0   0   0\n",
      "    0   0   0   0   0   0   0   0   0   0]\n",
      " [  0   0   0   0   0   0   0   0   0   0   0   0   0   0   0   0   0   0\n",
      "    0   0   0   0   0   0   0   0   0   0]\n",
      " [  0   0   0   0   0   0   0   0   0   0   0  42 118 219 166 118 118   6\n",
      "    0   0   0   0   0   0   0   0   0   0]\n",
      " [  0   0   0   0   0   0   0   0   0   0 103 242 254 254 254 254 254  66\n",
      "    0   0   0   0   0   0   0   0   0   0]\n",
      " [  0   0   0   0   0   0   0   0   0   0  18 232 254 254 254 254 254 238\n",
      "   70   0   0   0   0   0   0   0   0   0]\n",
      " [  0   0   0   0   0   0   0   0   0   0   0 104 244 254 224 254 254 254\n",
      "  141   0   0   0   0   0   0   0   0   0]\n",
      " [  0   0   0   0   0   0   0   0   0   0   0   0 207 254 210 254 254 254\n",
      "   34   0   0   0   0   0   0   0   0   0]\n",
      " [  0   0   0   0   0   0   0   0   0   0   0   0  84 206 254 254 254 254\n",
      "   41   0   0   0   0   0   0   0   0   0]\n",
      " [  0   0   0   0   0   0   0   0   0   0   0   0   0  24 209 254 254 254\n",
      "  171   0   0   0   0   0   0   0   0   0]\n",
      " [  0   0   0   0   0   0   0   0   0   0   0   0  91 137 253 254 254 254\n",
      "  112   0   0   0   0   0   0   0   0   0]\n",
      " [  0   0   0   0   0   0   0   0   0   0  40 214 250 254 254 254 254 254\n",
      "   34   0   0   0   0   0   0   0   0   0]\n",
      " [  0   0   0   0   0   0   0   0   0   0  81 247 254 254 254 254 254 254\n",
      "  146   0   0   0   0   0   0   0   0   0]\n",
      " [  0   0   0   0   0   0   0   0   0   0   0 110 246 254 254 254 254 254\n",
      "  171   0   0   0   0   0   0   0   0   0]\n",
      " [  0   0   0   0   0   0   0   0   0   0   0   0  73  89  89  93 240 254\n",
      "  171   0   0   0   0   0   0   0   0   0]\n",
      " [  0   0   0   0   0   0   0   0   0   0   0   0   0   0   0   1 128 254\n",
      "  219  31   0   0   0   0   0   0   0   0]\n",
      " [  0   0   0   0   0   0   0   0   0   0   0   0   0   0   0   7 254 254\n",
      "  214  28   0   0   0   0   0   0   0   0]\n",
      " [  0   0   0   0   0   0   0   0   0   0   0   0   0   0   0 138 254 254\n",
      "  116   0   0   0   0   0   0   0   0   0]\n",
      " [  0   0   0   0   0   0  19 177  90   0   0   0   0   0  25 240 254 254\n",
      "   34   0   0   0   0   0   0   0   0   0]\n",
      " [  0   0   0   0   0   0 164 254 215  63  36   0  51  89 206 254 254 139\n",
      "    8   0   0   0   0   0   0   0   0   0]\n",
      " [  0   0   0   0   0   0  57 197 254 254 222 180 241 254 254 253 213  11\n",
      "    0   0   0   0   0   0   0   0   0   0]\n",
      " [  0   0   0   0   0   0   0 140 105 254 254 254 254 254 254 236   0   0\n",
      "    0   0   0   0   0   0   0   0   0   0]\n",
      " [  0   0   0   0   0   0   0   0   7 117 117 165 254 254 239  50   0   0\n",
      "    0   0   0   0   0   0   0   0   0   0]\n",
      " [  0   0   0   0   0   0   0   0   0   0   0   0   0   0   0   0   0   0\n",
      "    0   0   0   0   0   0   0   0   0   0]\n",
      " [  0   0   0   0   0   0   0   0   0   0   0   0   0   0   0   0   0   0\n",
      "    0   0   0   0   0   0   0   0   0   0]\n",
      " [  0   0   0   0   0   0   0   0   0   0   0   0   0   0   0   0   0   0\n",
      "    0   0   0   0   0   0   0   0   0   0]\n",
      " [  0   0   0   0   0   0   0   0   0   0   0   0   0   0   0   0   0   0\n",
      "    0   0   0   0   0   0   0   0   0   0]]\n"
     ]
    }
   ],
   "source": [
    "# Printing the 10th image\n",
    "print(X_train[10])"
   ]
  },
  {
   "cell_type": "markdown",
   "metadata": {},
   "source": [
    "Building the Neural Network"
   ]
  },
  {
   "cell_type": "code",
   "execution_count": 11,
   "metadata": {},
   "outputs": [],
   "source": [
    "# Setting up layers of the neural network\n",
    "model = keras.Sequential([\n",
    "    keras.layers.Flatten(input_shape=(28, 28)),\n",
    "    keras.layers.Dense(50, activation='relu'),\n",
    "    keras.layers.Dense(50, activation='relu'),\n",
    "    keras.layers.Dense(10, activation='sigmoid')\n",
    "])"
   ]
  },
  {
   "cell_type": "code",
   "execution_count": 12,
   "metadata": {},
   "outputs": [],
   "source": [
    "# Compiling the neural network\n",
    "model.compile(optimizer='adam',\n",
    "              loss='sparse_categorical_crossentropy',\n",
    "              metrics = ['accuracy'])"
   ]
  },
  {
   "cell_type": "code",
   "execution_count": 13,
   "metadata": {},
   "outputs": [
    {
     "name": "stdout",
     "output_type": "stream",
     "text": [
      "Epoch 1/10\n",
      "1875/1875 [==============================] - 10s 4ms/step - loss: 1.8141 - accuracy: 0.8260\n",
      "Epoch 2/10\n",
      "1875/1875 [==============================] - 7s 4ms/step - loss: 0.4035 - accuracy: 0.9016\n",
      "Epoch 3/10\n",
      "1875/1875 [==============================] - 6s 3ms/step - loss: 0.3082 - accuracy: 0.9230\n",
      "Epoch 4/10\n",
      "1875/1875 [==============================] - 7s 4ms/step - loss: 0.2591 - accuracy: 0.9332\n",
      "Epoch 5/10\n",
      "1875/1875 [==============================] - 6s 3ms/step - loss: 0.2187 - accuracy: 0.9427\n",
      "Epoch 6/10\n",
      "1875/1875 [==============================] - 6s 3ms/step - loss: 0.1927 - accuracy: 0.9478\n",
      "Epoch 7/10\n",
      "1875/1875 [==============================] - 6s 3ms/step - loss: 0.1686 - accuracy: 0.9534\n",
      "Epoch 8/10\n",
      "1875/1875 [==============================] - 6s 3ms/step - loss: 0.1526 - accuracy: 0.9572\n",
      "Epoch 9/10\n",
      "1875/1875 [==============================] - 6s 3ms/step - loss: 0.1370 - accuracy: 0.9613\n",
      "Epoch 10/10\n",
      "1875/1875 [==============================] - 6s 3ms/step - loss: 0.1280 - accuracy: 0.9631\n"
     ]
    },
    {
     "data": {
      "text/plain": [
       "<keras.src.callbacks.History at 0x5292f9d190>"
      ]
     },
     "execution_count": 13,
     "metadata": {},
     "output_type": "execute_result"
    }
   ],
   "source": [
    "# Training the neural network\n",
    "model.fit(X_train, y_train, epochs=10)"
   ]
  },
  {
   "cell_type": "markdown",
   "metadata": {},
   "source": [
    "**Accuracy on Test Data**"
   ]
  },
  {
   "cell_type": "code",
   "execution_count": 14,
   "metadata": {},
   "outputs": [
    {
     "name": "stdout",
     "output_type": "stream",
     "text": [
      "313/313 [==============================] - 1s 2ms/step - loss: 0.1974 - accuracy: 0.9527\n",
      "0.9527000188827515\n"
     ]
    }
   ],
   "source": [
    "loss, accuracy = model.evaluate(X_test, y_test)\n",
    "print(accuracy)"
   ]
  },
  {
   "cell_type": "code",
   "execution_count": 15,
   "metadata": {},
   "outputs": [
    {
     "name": "stdout",
     "output_type": "stream",
     "text": [
      "(10000, 28, 28)\n"
     ]
    }
   ],
   "source": [
    "print(X_test.shape)"
   ]
  },
  {
   "cell_type": "code",
   "execution_count": 16,
   "metadata": {},
   "outputs": [
    {
     "data": {
      "image/png": "[encoded data removed]",
      "text/plain": [
       "<Figure size 640x480 with 1 Axes>"
      ]
     },
     "metadata": {},
     "output_type": "display_data"
    }
   ],
   "source": [
    "# First data point in X_test\n",
    "plt.imshow(X_test[0])\n",
    "plt.show()"
   ]
  },
  {
   "cell_type": "code",
   "execution_count": 17,
   "metadata": {},
   "outputs": [
    {
     "name": "stdout",
     "output_type": "stream",
     "text": [
      "7\n"
     ]
    }
   ],
   "source": [
    "print(y_test[0])"
   ]
  },
  {
   "cell_type": "code",
   "execution_count": 18,
   "metadata": {},
   "outputs": [
    {
     "name": "stdout",
     "output_type": "stream",
     "text": [
      "313/313 [==============================] - 1s 2ms/step\n"
     ]
    }
   ],
   "source": [
    "y_pred = model.predict(X_test)"
   ]
  },
  {
   "cell_type": "code",
   "execution_count": 19,
   "metadata": {},
   "outputs": [
    {
     "name": "stdout",
     "output_type": "stream",
     "text": [
      "(10000, 10)\n"
     ]
    }
   ],
   "source": [
    "print(y_pred.shape)"
   ]
  },
  {
   "cell_type": "code",
   "execution_count": 20,
   "metadata": {},
   "outputs": [
    {
     "name": "stdout",
     "output_type": "stream",
     "text": [
      "[2.8880083e-09 9.7671425e-01 9.9919492e-01 9.9994648e-01 8.6187226e-01\n",
      " 9.8817879e-01 1.3384564e-08 1.0000000e+00 3.9776065e-03 9.9771529e-01]\n"
     ]
    }
   ],
   "source": [
    "print(y_pred[0])"
   ]
  },
  {
   "cell_type": "markdown",
   "metadata": {},
   "source": [
    "model.predict() gives the prediction probability of each class for that data point"
   ]
  },
  {
   "cell_type": "code",
   "execution_count": 21,
   "metadata": {},
   "outputs": [
    {
     "name": "stdout",
     "output_type": "stream",
     "text": [
      "7\n"
     ]
    }
   ],
   "source": [
    "# converting the prediction probabilities to class label\n",
    "\n",
    "label_for_first_test_image = np.argmax(y_pred[0])\n",
    "print(label_for_first_test_image)"
   ]
  },
  {
   "cell_type": "code",
   "execution_count": 22,
   "metadata": {},
   "outputs": [
    {
     "name": "stdout",
     "output_type": "stream",
     "text": [
      "[7, 1, 1, 0, 4, 1, 4, 9, 6, 4, 0, 6, 9, 0, 1, 5, 9, 7, 3, 4, 7, 6, 6, 5, 4, 0, 7, 0, 0, 1, 3, 1, 3, 4, 7, 2, 7, 1, 3, 1, 1, 7, 1, 2, 3, 5, 1, 2, 4, 4, 6, 3, 5, 5, 6, 0, 0, 1, 9, 5, 7, 8, 9, 3, 7, 4, 6, 4, 3, 0, 7, 0, 3, 9, 1, 7, 3, 2, 9, 7, 7, 6, 1, 7, 8, 0, 7, 3, 6, 1, 3, 6, 9, 3, 1, 4, 1, 7, 6, 9, 6, 0, 5, 0, 9, 9, 2, 1, 9, 4, 8, 7, 3, 9, 7, 4, 4, 0, 9, 2, 5, 4, 7, 6, 2, 9, 0, 5, 8, 5, 6, 6, 5, 7, 8, 1, 0, 1, 6, 4, 6, 7, 3, 1, 7, 1, 8, 2, 0, 2, 9, 8, 5, 5, 1, 5, 6, 0, 3, 1, 0, 6, 5, 4, 6, 5, 4, 5, 1, 4, 1, 7, 1, 3, 2, 7, 1, 8, 1, 8, 1, 8, 5, 0, 8, 9, 2, 5, 0, 1, 1, 1, 0, 9, 0, 3, 1, 6, 1, 2, 3, 6, 1, 1, 1, 3, 9, 5, 2, 9, 0, 5, 9, 3, 9, 0, 3, 6, 5, 5, 7, 2, 2, 7, 1, 2, 8, 4, 1, 7, 3, 3, 8, 8, 7, 9, 2, 1, 0, 1, 5, 9, 8, 7, 2, 3, 0, 6, 0, 2, 9, 1, 4, 5, 7, 7, 2, 1, 2, 0, 8, 5, 7, 7, 9, 1, 8, 1, 8, 0, 3, 0, 1, 9, 9, 4, 1, 8, 2, 1, 1, 9, 7, 5, 9, 2, 6, 4, 1, 5, 9, 1, 9, 2, 0, 4, 0, 0, 2, 8, 4, 7, 1, 2, 4, 0, 1, 7, 1, 3, 3, 0, 0, 3, 1, 9, 4, 5, 2, 5, 9, 7, 9, 3, 0, 4, 2, 0, 7, 1, 1, 2, 1, 5, 3, 3, 9, 7, 8, 6, 3, 6, 1, 3, 8, 1, 0, 5, 1, 3, 1, 5, 5, 6, 1, 8, 5, 1, 7, 9, 0, 6, 3, 1, 5, 0, 6, 5, 6, 3, 7, 1, 0, 8, 8, 5, 4, 1, 1, 4, 0, 3, 3, 7, 6, 1, 6, 2, 1, 4, 2, 8, 6, 1, 9, 5, 2, 5, 0, 4, 2, 8, 3, 5, 2, 4, 5, 0, 3, 1, 3, 7, 3, 3, 9, 3, 1, 4, 2, 1, 4, 3, 9, 2, 0, 4, 9, 1, 4, 8, 1, 8, 1, 5, 9, 8, 8, 3, 7, 6, 0, 0, 3, 0, 2, 0, 6, 4, 9, 3, 3, 3, 1, 3, 9, 1, 1, 6, 8, 0, 5, 6, 6, 6, 3, 8, 8, 2, 7, 5, 8, 9, 6, 1, 8, 0, 1, 1, 6, 9, 1, 9, 7, 5, 4, 0, 8, 9, 4, 1, 0, 5, 2, 3, 7, 2, 9, 1, 0, 6, 3, 9, 5, 2, 1, 3, 1, 3, 6, 5, 7, 4, 1, 2, 6, 3, 1, 6, 5, 1, 8, 9, 7, 1, 3, 0, 3, 8, 3, 1, 9, 3, 4, 4, 6, 0, 1, 1, 8, 2, 5, 0, 8, 3, 0, 0, 0, 2, 3, 2, 7, 7, 0, 8, 7, 4, 0, 7, 4, 6, 4, 0, 9, 8, 0, 4, 6, 0, 6, 3, 5, 9, 8, 3, 3, 9, 3, 3, 3, 7, 8, 0, 2, 3, 1, 7, 0, 6, 5, 4, 3, 3, 0, 9, 6, 3, 8, 0, 9, 9, 6, 8, 6, 8, 5, 7, 8, 6, 0, 2, 4, 0, 1, 8, 3, 1, 9, 7, 5, 1, 0, 8, 4, 4, 1, 6, 7, 9, 3, 2, 9, 8, 2, 2, 9, 2, 3, 3, 5, 1, 1, 8, 0, 1, 0, 5, 6, 1, 3, 7, 6, 7, 1, 1, 5, 8, 0, 3, 7, 1, 2, 0, 7, 1, 8, 6, 7, 7, 4, 3, 4, 9, 1, 9, 3, 1, 7, 3, 9, 7, 6, 9, 1, 3, 7, 8, 3, 3, 6, 7, 2, 4, 5, 8, 5, 1, 1, 2, 4, 3, 1, 0, 7, 7, 0, 7, 9, 4, 4, 8, 3, 5, 4, 0, 3, 2, 1, 0, 8, 0, 8, 0, 4, 0, 6, 1, 7, 3, 2, 6, 7, 2, 6, 9, 3, 1, 4, 6, 2, 5, 9, 2, 0, 6, 2, 1, 7, 3, 4, 1, 0, 5, 4, 3, 1, 1, 7, 1, 9, 9, 9, 8, 0, 0, 2, 1, 5, 1, 1, 6, 0, 7, 1, 9, 9, 2, 0, 1, 5, 5, 3, 8, 3, 1, 4, 5, 6, 8, 9, 4, 1, 5, 3, 8, 0, 3, 1, 5, 1, 1, 8, 3, 0, 4, 0, 8, 8, 3, 3, 1, 2, 3, 5, 9, 6, 3, 2, 6, 1, 3, 6, 0, 3, 2, 1, 7, 1, 4, 2, 4, 2, 1, 7, 7, 6, 1, 1, 1, 4, 3, 1, 7, 7, 0, 8, 0, 7, 3, 1, 3, 1, 0, 7, 7, 0, 3, 5, 5, 2, 7, 6, 6, 9, 2, 8, 3, 5, 2, 2, 5, 6, 0, 8, 2, 9, 2, 8, 8, 8, 8, 7, 9, 9, 3, 0, 6, 6, 3, 2, 1, 3, 1, 2, 9, 3, 0, 0, 5, 7, 8, 1, 4, 4, 6, 0, 2, 9, 1, 0, 7, 0, 7, 3, 9, 8, 8, 0, 7, 1, 2, 1, 2, 2, 3, 7, 3, 6, 3, 9, 1, 7, 4, 0, 3, 5, 5, 8, 6, 3, 2, 6, 7, 6, 6, 3, 2, 7, 9, 1, 1, 7, 9, 6, 1, 9, 5, 1, 3, 3, 9, 7, 8, 9, 1, 1, 3, 9, 1, 4, 4, 5, 0, 0, 6, 1, 2, 3, 1, 5, 1, 2, 0, 3, 8, 1, 2, 6, 7, 1, 6, 2, 3, 9, 0, 1, 2, 1, 0, 8, 9, 7, 0, 2, 3, 1, 9, 7, 8, 1, 0, 0, 1, 7, 9, 5, 1, 2, 6, 8, 1, 3, 7, 5, 4, 4, 1, 8, 1, 3, 8, 1, 2, 5, 8, 0, 6, 1, 1, 1, 7, 1, 5, 3, 4, 8, 9, 5, 0, 9, 2, 2, 0, 8, 2, 1, 7, 2, 4, 9, 4, 0, 0, 3, 4, 1, 1, 3, 3, 8, 3, 5, 7, 3, 5, 8, 1, 2, 1, 4, 6, 4, 9, 5, 1, 0, 6, 9, 5, 7, 5, 9, 7, 3, 8, 0, 3, 3, 1, 3, 6, 7, 8, 5, 9, 7, 9, 6, 9, 6, 3, 7, 1, 4, 5, 3, 5, 1, 7, 8, 7, 8, 0, 7, 6, 9, 8, 7, 3, 3, 1, 9, 5, 2, 7, 1, 5, 1, 1, 1, 1, 4, 7, 4, 7, 5, 0, 5, 0, 0, 8, 3, 6, 7, 6, 0, 2, 8, 4, 4, 4, 4, 6, 6, 1, 7, 9, 3, 4, 5, 5, 8, 7, 3, 7, 1, 7, 0, 1, 4, 1, 1, 1, 6, 9, 2, 8, 2, 2, 0, 1, 5, 0, 9, 1, 7, 0, 6, 0, 4, 6, 1, 1, 5, 0, 3, 3, 7, 2, 3, 6, 1, 1, 6, 1, 1, 3, 9, 9, 0, 8, 0, 5, 0, 0, 2, 8, 2, 2, 9, 8, 0, 0, 4, 5, 2, 5, 1, 1, 1, 3, 1, 7, 4, 5, 7, 2, 0, 3, 3, 8, 6, 2, 5, 4, 1, 7, 3, 1, 5, 8, 1, 0, 2, 9, 4, 3, 6, 8, 8, 2, 4, 0, 5, 0, 4, 4, 7, 9, 3, 7, 1, 5, 9, 7, 3, 5, 8, 8, 0, 8, 3, 3, 6, 6, 0, 1, 6, 0, 3, 3, 4, 4, 1, 2, 9, 1, 4, 6, 9, 9, 3, 9, 8, 1, 2, 3, 1, 3, 1, 3, 8, 7, 7, 1, 8, 8, 1, 9, 9, 1, 1, 5, 6, 0, 5, 1, 1, 6, 1, 5, 5, 1, 4, 9, 6, 2, 7, 7, 2, 2, 1, 1, 2, 8, 3, 7, 2, 4, 1, 7, 1, 7, 6, 7, 3, 1, 7, 3, 1, 7, 5, 8, 2, 6, 2, 1, 5, 6, 6, 0, 9, 1, 0, 3, 3, 9, 7, 6, 6, 8, 0, 9, 1, 3, 8, 2, 4, 1, 8, 0, 4, 7, 2, 1, 0, 5, 5, 1, 0, 2, 2, 0, 2, 9, 5, 8, 0, 9, 9, 0, 6, 5, 4, 9, 1, 8, 3, 4, 9, 9, 1, 2, 1, 1, 1, 9, 6, 4, 0, 9, 4, 8, 3, 8, 0, 0, 2, 5, 1, 9, 6, 2, 4, 4, 0, 9, 6, 0, 6, 2, 5, 4, 2, 3, 8, 4, 3, 9, 0, 3, 8, 5, 3, 5, 8, 6, 5, 7, 6, 3, 3, 9, 6, 1, 1, 2, 9, 0, 4, 3, 3, 6, 9, 5, 9, 3, 7, 3, 7, 8, 1, 9, 8, 3, 0, 7, 2, 7, 9, 4, 5, 0, 9, 3, 2, 1, 4, 0, 2, 3, 7, 5, 9, 8, 8, 3, 0, 1, 1, 0, 7, 3, 9, 0, 0, 0, 6, 6, 2, 3, 7, 8, 1, 7, 7, 9, 2, 4, 1, 2, 5, 8, 4, 3, 9, 1, 8, 4, 0, 9, 8, 4, 5, 7, 7, 0, 7, 8, 8, 7, 0, 4, 8, 8, 1, 4, 7, 6, 6, 6, 1, 7, 1, 8, 8, 1, 3, 6, 3, 0, 0, 3, 7, 6, 9, 7, 9, 9, 5, 4, 3, 3, 6, 1, 2, 3, 3, 1, 3, 3, 0, 3, 3, 8, 4, 3, 6, 3, 5, 0, 2, 0, 9, 0, 7, 4, 6, 9, 3, 5, 1, 7, 6, 1, 4, 5, 4, 5, 0, 5, 9, 5, 2, 1, 2, 9, 1, 9, 9, 0, 0, 8, 4, 5, 2, 9, 1, 1, 1, 1, 7, 3, 6, 8, 8, 4, 9, 1, 9, 8, 3, 9, 5, 1, 1, 8, 6, 5, 0, 0, 4, 7, 2, 3, 5, 6, 3, 8, 6, 2, 3, 1, 0, 5, 8, 9, 1, 4, 6, 7, 0, 4, 8, 7, 1, 7, 4, 1, 0, 9, 7, 2, 0, 0, 9, 1, 7, 0, 7, 8, 0, 1, 2, 0, 0, 6, 0, 3, 1, 1, 3, 3, 9, 6, 3, 4, 1, 5, 3, 0, 8, 7, 3, 9, 6, 4, 3, 5, 0, 3, 7, 4, 5, 1, 2, 5, 8, 0, 8, 8, 1, 5, 0, 3, 0, 3, 1, 4, 0, 3, 7, 2, 2, 1, 3, 0, 7, 0, 4, 3, 1, 9, 8, 3, 7, 1, 1, 9, 9, 3, 9, 1, 7, 9, 0, 2, 0, 3, 3, 7, 2, 9, 2, 3, 3, 3, 7, 0, 0, 7, 5, 2, 9, 9, 7, 4, 4, 1, 6, 6, 1, 9, 6, 8, 2, 9, 0, 8, 3, 1, 1, 6, 3, 5, 1, 1, 1, 3, 1, 2, 3, 0, 2, 0, 1, 3, 5, 5, 7, 4, 8, 9, 1, 9, 6, 9, 3, 6, 6, 8, 5, 1, 4, 1, 1, 1, 5, 1, 1, 9, 0, 2, 4, 9, 5, 7, 1, 8, 3, 5, 0, 7, 8, 7, 1, 1, 6, 7, 6, 3, 1, 2, 0, 8, 9, 2, 5, 1, 0, 8, 1, 4, 5, 7, 9, 6, 9, 0, 6, 1, 5, 5, 8, 3, 8, 2, 6, 5, 0, 7, 4, 6, 1, 3, 4, 7, 3, 1, 3, 4, 2, 5, 2, 7, 1, 7, 2, 6, 6, 1, 5, 7, 8, 6, 0, 1, 8, 2, 5, 7, 7, 6, 3, 3, 5, 2, 4, 2, 0, 0, 8, 8, 3, 4, 9, 2, 3, 5, 1, 6, 3, 6, 0, 3, 6, 7, 3, 6, 4, 9, 1, 6, 6, 3, 2, 4, 1, 0, 1, 4, 6, 2, 9, 1, 1, 0, 6, 3, 9, 5, 6, 9, 6, 5, 9, 4, 6, 4, 3, 9, 1, 3, 1, 1, 9, 1, 2, 1, 1, 4, 3, 5, 4, 0, 9, 3, 6, 1, 7, 5, 5, 3, 3, 0, 1, 5, 3, 5, 8, 6, 5, 1, 0, 4, 7, 3, 1, 6, 3, 9, 8, 1, 8, 1, 4, 2, 8, 6, 2, 7, 0, 0, 6, 3, 5, 8, 6, 0, 9, 3, 9, 1, 3, 5, 4, 3, 3, 5, 5, 6, 3, 0, 1, 3, 4, 2, 3, 0, 9, 9, 1, 3, 1, 1, 1, 7, 0, 6, 0, 8, 5, 2, 8, 5, 7, 3, 0, 8, 2, 9, 2, 8, 2, 5, 5, 7, 6, 4, 8, 8, 1, 8, 2, 7, 0, 9, 2, 0, 3, 3, 4, 6, 7, 1, 5, 1, 1, 1, 2, 3, 6, 7, 8, 7, 6, 4, 8, 9, 4, 8, 6, 3, 8, 3, 1, 0, 6, 2, 2, 5, 6, 9, 5, 8, 1, 0, 1, 7, 8, 4, 1, 1, 8, 1, 3, 1, 2, 8, 0, 8, 5, 9, 3, 4, 1, 8, 2, 7, 0, 1, 0, 1, 5, 7, 6, 7, 7, 4, 3, 6, 2, 4, 1, 8, 0, 4, 4, 5, 8, 0, 6, 8, 9, 8, 5, 6, 9, 0, 1, 8, 3, 1, 3, 1, 5, 8, 0, 9, 1, 3, 3, 6, 9, 8, 7, 1, 0, 5, 7, 1, 3, 5, 2, 7, 4, 1, 8, 5, 2, 0, 1, 4, 7, 2, 2, 3, 0, 9, 1, 9, 2, 1, 7, 9, 4, 1, 1, 6, 3, 1, 7, 8, 0, 1, 9, 7, 1, 1, 7, 5, 3, 3, 5, 1, 3, 7, 6, 1, 3, 8, 7, 3, 9, 0, 0, 0, 2, 8, 8, 7, 3, 7, 1, 3, 0, 3, 1, 0, 3, 8, 9, 2, 3, 9, 7, 1, 1, 7, 0, 4, 9, 6, 5, 9, 1, 7, 0, 7, 0, 0, 0, 6, 7, 0, 7, 1, 0, 6, 4, 5, 0, 9, 9, 1, 7, 9, 5, 3, 3, 8, 0, 3, 6, 2, 1, 1, 1, 1, 1, 1, 6, 4, 8, 0, 3, 5, 1, 6, 4, 9, 0, 9, 7, 1, 2, 0, 0, 7, 0, 1, 0, 9, 8, 6, 0, 0, 4, 1, 6, 8, 2, 2, 3, 3, 4, 8, 2, 2, 1, 7, 5, 0, 4, 0, 4, 3, 9, 3, 9, 1, 0, 1, 2, 5, 4, 2, 1, 0, 1, 8, 9, 1, 6, 8, 3, 8, 9, 3, 6, 2, 8, 3, 1, 2, 1, 0, 4, 2, 9, 1, 0, 3, 7, 9, 1, 5, 1, 4, 9, 0, 3, 8, 5, 3, 5, 0, 9, 1, 6, 2, 5, 0, 2, 7, 4, 6, 6, 8, 6, 6, 8, 6, 9, 1, 7, 2, 5, 9, 9, 0, 7, 1, 7, 6, 7, 0, 6, 5, 1, 4, 7, 2, 0, 9, 9, 2, 2, 9, 4, 4, 1, 3, 3, 1, 1, 3, 0, 7, 6, 4, 1, 3, 8, 7, 9, 5, 9, 2, 5, 1, 8, 7, 3, 7, 1, 5, 3, 0, 9, 1, 4, 0, 6, 3, 3, 6, 0, 4, 9, 7, 5, 1, 6, 8, 9, 5, 5, 7, 4, 3, 8, 3, 8, 1, 5, 3, 5, 0, 5, 5, 3, 8, 6, 7, 7, 7, 3, 7, 0, 5, 9, 0, 2, 5, 5, 3, 1, 7, 7, 8, 6, 5, 9, 3, 8, 9, 5, 3, 3, 9, 1, 7, 0, 0, 3, 3, 2, 5, 8, 1, 8, 6, 2, 9, 3, 7, 5, 8, 8, 6, 2, 5, 1, 0, 8, 1, 5, 8, 3, 0, 6, 1, 7, 3, 3, 1, 1, 0, 7, 3, 9, 6, 3, 9, 3, 2, 8, 9, 0, 3, 8, 0, 4, 6, 5, 4, 7, 3, 5, 0, 8, 6, 2, 5, 1, 1, 0, 0, 4, 1, 0, 1, 2, 3, 1, 7, 7, 8, 5, 1, 5, 7, 6, 9, 1, 4, 1, 6, 4, 2, 4, 3, 5, 4, 9, 9, 5, 0, 1, 5, 3, 8, 9, 1, 9, 7, 9, 5, 5, 2, 7, 1, 0, 0, 1, 1, 1, 0, 4, 4, 7, 6, 3, 0, 0, 4, 3, 0, 4, 1, 9, 6, 1, 3, 8, 1, 2, 5, 6, 2, 7, 3, 6, 0, 1, 9, 7, 6, 6, 8, 9, 2, 9, 1, 8, 3, 1, 0, 0, 2, 6, 0, 2, 1, 0, 9, 3, 1, 8, 6, 9, 0, 6, 0, 0, 0, 6, 3, 5, 9, 3, 9, 5, 5, 8, 5, 3, 0, 4, 0, 2, 9, 6, 8, 2, 3, 1, 2, 1, 1, 5, 6, 9, 8, 0, 6, 6, 5, 5, 3, 8, 6, 2, 1, 4, 5, 1, 3, 4, 8, 3, 0, 9, 3, 5, 1, 1, 0, 4, 0, 7, 0, 1, 7, 0, 1, 6, 1, 4, 5, 6, 6, 5, 2, 3, 0, 3, 7, 2, 5, 3, 7, 0, 1, 7, 9, 6, 4, 2, 8, 3, 3, 8, 3, 9, 5, 8, 9, 9, 8, 6, 1, 8, 4, 2, 3, 6, 1, 1, 8, 9, 3, 0, 0, 7, 7, 6, 4, 1, 4, 1, 3, 0, 9, 3, 1, 4, 7, 7, 0, 7, 2, 9, 3, 0, 8, 0, 8, 4, 0, 4, 4, 1, 5, 1, 8, 3, 9, 9, 5, 2, 1, 1, 5, 3, 7, 1, 4, 1, 5, 6, 3, 5, 9, 3, 5, 4, 2, 1, 9, 5, 3, 0, 6, 9, 8, 4, 0, 4, 7, 1, 9, 0, 1, 0, 3, 1, 6, 5, 8, 1, 5, 3, 3, 0, 3, 5, 5, 9, 2, 8, 7, 0, 4, 9, 1, 9, 7, 7, 5, 5, 2, 0, 9, 1, 8, 6, 2, 3, 7, 6, 2, 1, 9, 1, 3, 5, 5, 5, 3, 8, 3, 3, 7, 6, 8, 0, 1, 4, 0, 6, 9, 8, 1, 2, 9, 9, 5, 9, 7, 3, 2, 9, 0, 1, 3, 0, 4, 6, 1, 0, 2, 5, 8, 4, 4, 1, 1, 3, 4, 8, 6, 0, 6, 9, 1, 6, 2, 7, 1, 7, 9, 4, 0, 0, 3, 8, 1, 2, 3, 1, 5, 0, 5, 7, 7, 9, 2, 6, 7, 9, 7, 8, 6, 8, 8, 4, 6, 8, 4, 1, 2, 8, 3, 3, 9, 0, 0, 3, 7, 3, 1, 3, 3, 7, 3, 4, 0, 6, 2, 0, 8, 1, 5, 3, 5, 1, 1, 7, 1, 5, 7, 5, 7, 3, 2, 2, 7, 3, 7, 3, 7, 8, 5, 4, 5, 1, 3, 6, 5, 3, 6, 7, 4, 1, 1, 1, 5, 1, 3, 0, 3, 1, 4, 2, 6, 7, 0, 3, 8, 0, 6, 1, 1, 6, 5, 3, 9, 1, 9, 3, 2, 1, 8, 4, 4, 6, 5, 8, 6, 9, 7, 7, 8, 6, 9, 7, 3, 9, 4, 0, 5, 4, 6, 0, 1, 2, 3, 0, 0, 2, 6, 6, 5, 7, 0, 8, 6, 0, 7, 9, 0, 7, 3, 1, 1, 1, 8, 8, 5, 9, 2, 7, 1, 8, 8, 3, 1, 7, 6, 0, 1, 1, 7, 1, 0, 8, 3, 6, 0, 5, 3, 6, 2, 8, 9, 0, 1, 4, 2, 1, 1, 4, 4, 0, 4, 7, 1, 6, 1, 9, 9, 0, 0, 1, 8, 3, 1, 3, 4, 2, 0, 6, 1, 6, 1, 2, 2, 1, 1, 2, 3, 7, 8, 1, 0, 0, 2, 1, 6, 6, 0, 1, 6, 2, 5, 1, 7, 4, 8, 2, 1, 4, 3, 8, 3, 9, 9, 4, 8, 3, 4, 7, 1, 7, 5, 7, 0, 0, 3, 3, 1, 6, 1, 6, 0, 0, 6, 4, 7, 0, 5, 5, 8, 1, 0, 7, 0, 2, 8, 1, 5, 0, 8, 8, 0, 3, 1, 3, 7, 2, 6, 0, 7, 9, 5, 7, 2, 9, 1, 8, 4, 6, 8, 6, 5, 0, 0, 8, 7, 6, 1, 7, 1, 1, 1, 7, 4, 0, 0, 7, 7, 6, 3, 8, 6, 1, 2, 0, 9, 4, 0, 5, 7, 8, 2, 4, 1, 3, 1, 1, 3, 6, 6, 1, 9, 1, 9, 4, 8, 3, 6, 9, 5, 9, 6, 2, 4, 6, 7, 7, 0, 1, 4, 9, 4, 8, 3, 5, 3, 9, 9, 0, 0, 5, 2, 5, 0, 7, 1, 1, 1, 0, 4, 6, 7, 9, 6, 6, 1, 1, 0, 3, 1, 1, 2, 1, 9, 1, 0, 8, 7, 6, 3, 4, 0, 0, 6, 3, 3, 0, 7, 1, 7, 1, 1, 3, 1, 0, 9, 4, 7, 5, 4, 1, 4, 8, 9, 5, 3, 5, 1, 9, 8, 3, 3, 3, 4, 9, 0, 1, 0, 2, 9, 3, 9, 3, 3, 6, 1, 9, 9, 8, 3, 7, 1, 0, 4, 7, 8, 0, 9, 8, 1, 9, 7, 5, 9, 2, 8, 1, 2, 0, 2, 2, 3, 8, 0, 6, 8, 4, 8, 1, 4, 6, 7, 9, 3, 3, 9, 4, 3, 1, 9, 4, 3, 0, 5, 9, 6, 0, 4, 0, 0, 4, 6, 1, 2, 3, 2, 6, 4, 5, 9, 6, 8, 5, 6, 0, 5, 6, 1, 1, 8, 6, 5, 1, 5, 4, 5, 5, 4, 7, 7, 7, 9, 8, 2, 1, 3, 1, 0, 1, 8, 0, 7, 1, 7, 8, 7, 5, 5, 9, 1, 3, 5, 0, 3, 1, 3, 2, 1, 6, 6, 7, 1, 1, 4, 0, 7, 0, 2, 4, 0, 6, 0, 7, 6, 9, 5, 3, 0, 6, 5, 0, 1, 8, 8, 1, 3, 3, 5, 7, 8, 0, 8, 5, 7, 1, 1, 0, 1, 3, 7, 8, 5, 0, 7, 1, 1, 0, 1, 1, 4, 5, 1, 7, 6, 2, 3, 0, 2, 8, 5, 9, 6, 9, 7, 1, 1, 3, 6, 4, 1, 1, 2, 0, 0, 5, 1, 0, 3, 2, 6, 2, 4, 3, 9, 6, 1, 6, 5, 7, 9, 2, 0, 2, 6, 0, 1, 1, 3, 5, 1, 8, 8, 0, 8, 8, 9, 0, 9, 6, 7, 6, 3, 9, 3, 9, 7, 7, 7, 4, 9, 0, 6, 1, 8, 1, 2, 7, 2, 8, 1, 0, 0, 7, 8, 3, 3, 3, 1, 9, 7, 6, 1, 3, 1, 6, 0, 5, 7, 4, 7, 5, 9, 5, 8, 4, 9, 9, 1, 6, 5, 7, 1, 3, 2, 0, 3, 4, 8, 3, 2, 0, 1, 8, 1, 5, 1, 6, 8, 8, 9, 1, 2, 1, 3, 5, 1, 0, 9, 0, 4, 8, 3, 2, 5, 9, 7, 6, 0, 1, 0, 0, 0, 5, 8, 7, 1, 5, 3, 3, 8, 5, 1, 8, 2, 0, 4, 9, 9, 6, 2, 3, 3, 5, 6, 2, 8, 0, 9, 2, 8, 3, 6, 7, 5, 1, 2, 9, 0, 7, 1, 2, 8, 6, 0, 3, 0, 9, 1, 1, 5, 3, 5, 9, 9, 1, 9, 5, 9, 2, 5, 0, 0, 1, 0, 8, 4, 0, 8, 9, 8, 9, 0, 2, 5, 7, 9, 8, 9, 8, 0, 9, 9, 6, 8, 9, 4, 5, 9, 8, 8, 1, 0, 3, 3, 5, 2, 1, 6, 3, 0, 2, 8, 3, 5, 6, 2, 3, 0, 2, 2, 6, 1, 3, 5, 5, 1, 3, 2, 1, 6, 9, 1, 9, 7, 5, 5, 1, 6, 2, 1, 8, 6, 7, 1, 1, 6, 0, 2, 0, 5, 3, 2, 1, 3, 6, 8, 9, 8, 5, 3, 8, 5, 0, 5, 2, 0, 5, 6, 1, 2, 8, 3, 9, 9, 5, 7, 9, 4, 6, 7, 1, 3, 7, 3, 6, 6, 0, 9, 0, 1, 9, 4, 1, 8, 8, 0, 1, 6, 9, 7, 5, 3, 0, 7, 4, 9, 9, 1, 3, 6, 3, 1, 1, 9, 6, 9, 1, 8, 4, 1, 1, 9, 4, 4, 3, 6, 8, 1, 6, 0, 1, 1, 3, 4, 7, 4, 9, 5, 1, 0, 0, 1, 1, 6, 2, 1, 9, 8, 4, 0, 3, 6, 2, 9, 0, 7, 1, 6, 5, 7, 5, 2, 5, 1, 8, 5, 4, 7, 0, 6, 7, 6, 2, 5, 3, 1, 0, 4, 5, 3, 1, 3, 5, 1, 3, 0, 0, 6, 0, 7, 3, 1, 8, 3, 9, 7, 0, 0, 8, 4, 5, 9, 8, 3, 2, 3, 2, 9, 7, 1, 1, 1, 3, 7, 5, 3, 1, 9, 8, 2, 2, 2, 8, 8, 5, 7, 3, 8, 9, 8, 8, 6, 8, 1, 3, 9, 7, 5, 6, 2, 9, 2, 8, 8, 1, 2, 2, 9, 7, 9, 1, 8, 0, 1, 7, 2, 0, 3, 6, 1, 9, 0, 2, 0, 9, 8, 6, 2, 3, 9, 3, 3, 0, 1, 1, 1, 1, 1, 1, 1, 9, 7, 5, 5, 1, 1, 2, 1, 9, 9, 9, 1, 0, 2, 0, 2, 1, 1, 4, 4, 4, 1, 5, 4, 4, 9, 7, 7, 5, 6, 1, 6, 2, 8, 0, 6, 9, 6, 1, 9, 7, 7, 1, 4, 8, 5, 3, 4, 3, 4, 7, 7, 5, 0, 7, 4, 8, 8, 1, 5, 3, 9, 5, 9, 9, 6, 9, 0, 3, 6, 3, 9, 8, 1, 1, 1, 2, 8, 6, 8, 5, 3, 3, 9, 1, 9, 2, 5, 1, 5, 1, 4, 4, 1, 4, 4, 3, 5, 7, 1, 2, 1, 3, 3, 0, 0, 4, 0, 0, 9, 9, 6, 0, 9, 3, 7, 8, 4, 1, 9, 7, 7, 2, 7, 9, 4, 6, 9, 5, 1, 1, 8, 7, 5, 1, 9, 5, 3, 5, 4, 9, 5, 9, 9, 1, 9, 0, 9, 7, 5, 4, 7, 2, 0, 1, 0, 5, 1, 1, 9, 3, 3, 6, 1, 5, 2, 5, 2, 2, 0, 9, 2, 6, 6, 0, 1, 2, 0, 3, 0, 2, 3, 5, 3, 9, 5, 3, 0, 8, 9, 5, 0, 3, 1, 5, 9, 0, 8, 8, 4, 5, 8, 8, 4, 5, 4, 8, 5, 4, 9, 2, 1, 1, 2, 6, 8, 8, 7, 0, 3, 6, 6, 4, 3, 8, 8, 7, 2, 1, 0, 0, 9, 3, 7, 9, 1, 9, 8, 6, 6, 0, 2, 6, 9, 2, 8, 5, 4, 5, 7, 9, 9, 4, 2, 1, 8, 3, 4, 0, 7, 8, 7, 4, 3, 5, 6, 5, 6, 1, 3, 9, 2, 6, 0, 0, 6, 1, 3, 8, 7, 9, 8, 1, 0, 4, 7, 7, 5, 0, 5, 6, 4, 6, 1, 0, 3, 0, 7, 5, 0, 7, 4, 1, 6, 8, 9, 9, 4, 2, 1, 6, 7, 8, 1, 6, 9, 0, 1, 3, 7, 3, 0, 8, 7, 4, 6, 1, 3, 9, 1, 3, 9, 2, 1, 8, 3, 2, 9, 6, 8, 4, 0, 1, 2, 8, 4, 5, 2, 3, 8, 1, 1, 3, 0, 3, 5, 7, 0, 3, 1, 7, 3, 5, 3, 1, 7, 9, 3, 0, 8, 4, 8, 2, 4, 5, 1, 9, 3, 3, 9, 0, 9, 9, 6, 4, 2, 9, 7, 2, 1, 1, 6, 7, 4, 7, 5, 4, 8, 8, 2, 1, 2, 4, 5, 7, 6, 1, 3, 2, 5, 9, 9, 3, 6, 1, 1, 1, 6, 7, 7, 1, 1, 5, 1, 4, 6, 3, 4, 1, 1, 0, 3, 1, 6, 8, 4, 9, 0, 7, 3, 0, 2, 9, 0, 6, 6, 6, 3, 6, 3, 7, 2, 8, 6, 0, 8, 3, 0, 2, 9, 8, 3, 1, 5, 3, 9, 8, 0, 0, 1, 4, 5, 1, 3, 9, 6, 0, 1, 0, 1, 4, 1, 2, 3, 7, 9, 7, 4, 9, 9, 3, 9, 1, 8, 2, 7, 1, 8, 0, 9, 1, 0, 1, 7, 7, 9, 6, 9, 9, 9, 2, 1, 6, 1, 3, 5, 7, 1, 9, 3, 6, 4, 5, 7, 4, 6, 9, 9, 6, 3, 6, 1, 4, 8, 1, 1, 2, 5, 5, 2, 3, 7, 2, 1, 0, 1, 0, 4, 5, 0, 8, 2, 8, 3, 5, 1, 7, 7, 1, 1, 2, 9, 7, 6, 1, 0, 3, 0, 7, 8, 8, 4, 3, 7, 8, 5, 8, 4, 9, 8, 1, 3, 8, 0, 3, 1, 7, 9, 5, 5, 1, 6, 5, 3, 4, 9, 3, 5, 4, 7, 1, 2, 0, 8, 1, 6, 0, 7, 3, 4, 7, 3, 9, 6, 0, 8, 6, 4, 8, 7, 3, 9, 3, 8, 6, 9, 7, 1, 3, 0, 0, 1, 1, 3, 5, 5, 5, 7, 1, 4, 0, 7, 2, 8, 3, 0, 8, 7, 8, 4, 0, 8, 4, 9, 5, 8, 5, 6, 6, 2, 0, 9, 3, 7, 5, 8, 9, 3, 4, 4, 5, 8, 9, 1, 2, 8, 8, 6, 8, 1, 3, 7, 9, 0, 1, 1, 4, 7, 0, 8, 1, 7, 4, 5, 7, 1, 1, 1, 1, 3, 9, 6, 2, 1, 2, 8, 8, 7, 5, 6, 9, 3, 1, 0, 5, 1, 3, 0, 5, 4, 3, 8, 4, 6, 6, 2, 7, 4, 5, 1, 3, 2, 0, 3, 6, 1, 4, 4, 0, 7, 6, 5, 1, 1, 9, 9, 1, 7, 8, 0, 1, 3, 6, 1, 3, 4, 1, 1, 1, 5, 6, 0, 7, 0, 7, 3, 3, 2, 5, 2, 2, 9, 4, 9, 8, 1, 2, 1, 6, 1, 3, 7, 4, 0, 0, 0, 8, 1, 1, 9, 1, 1, 9, 9, 9, 2, 7, 5, 1, 3, 4, 9, 1, 1, 3, 5, 6, 2, 8, 3, 1, 0, 8, 4, 9, 9, 2, 7, 0, 4, 7, 2, 3, 2, 4, 0, 3, 9, 9, 8, 0, 1, 0, 6, 0, 9, 4, 8, 6, 1, 1, 9, 8, 9, 1, 3, 5, 5, 9, 1, 2, 1, 9, 1, 3, 9, 6, 0, 0, 0, 6, 0, 1, 1, 3, 4, 1, 8, 9, 0, 1, 1, 3, 4, 7, 8, 7, 0, 1, 0, 3, 4, 5, 6, 7, 8, 9, 8, 3, 1, 7, 6, 6, 2, 9, 0, 9, 7, 1, 7, 3, 8, 0, 7, 3, 0, 7, 1, 0, 5, 4, 6, 2, 0, 6, 2, 1, 1, 1, 1, 7, 2, 4, 3, 5, 2, 9, 1, 5, 8, 4, 2, 9, 7, 0, 0, 1, 5, 1, 1, 7, 6, 6, 6, 8, 1, 2, 1, 4, 4, 0, 2, 4, 2, 1, 8, 9, 6, 1, 0, 5, 9, 6, 4, 5, 0, 0, 0, 8, 3, 9, 6, 3, 0, 1, 1, 3, 0, 5, 6, 7, 0, 1, 1, 3, 9, 5, 6, 7, 8, 9, 0, 1, 1, 3, 1, 5, 6, 7, 8, 5, 4, 8, 7, 1, 7, 7, 3, 9, 4, 8, 3, 1, 5, 8, 1, 7, 4, 2, 1, 5, 4, 5, 5, 8, 6, 4, 9, 4, 1, 8, 7, 5, 5, 1, 8, 9, 1, 3, 6, 3, 3, 1, 2, 6, 9, 9, 6, 5, 5, 3, 3, 8, 1, 6, 5, 6, 8, 1, 9, 7, 6, 8, 3, 7, 1, 7, 0, 9, 0, 0, 3, 7, 9, 3, 0, 2, 0, 1, 0, 1, 0, 0, 0, 1, 0, 4, 7, 9, 6, 1, 6, 1, 2, 9, 9, 0, 1, 1, 3, 1, 5, 6, 7, 8, 9, 0, 1, 1, 3, 4, 5, 6, 3, 8, 9, 0, 1, 1, 3, 2, 5, 6, 3, 8, 9, 8, 0, 5, 6, 6, 0, 8, 0, 2, 3, 7, 9, 4, 7, 1, 9, 1, 7, 1, 0, 0, 0, 0, 1, 7, 5, 7, 1, 3, 3, 3, 6, 6, 9, 7, 4, 3, 0, 2, 5, 2, 6, 0, 8, 9, 1, 3, 5, 4, 8, 1, 5, 9, 0, 6, 4, 3, 6, 3, 3, 8, 1, 0, 7, 5, 3, 1, 2, 0, 0, 1, 7, 7, 9, 5, 9, 8, 9, 6, 8, 8, 1, 3, 6, 1, 1, 9, 8, 9, 5, 0, 6, 2, 0, 8, 4, 6, 5, 0, 1, 5, 6, 7, 8, 9, 0, 1, 2, 3, 4, 5, 6, 7, 8, 9, 0, 1, 2, 3, 4, 5, 6, 3, 8, 7, 4, 4, 2, 0, 7, 0, 1, 5, 8, 8, 0, 1, 7, 8, 0, 4, 6, 1, 0, 1, 5, 3, 4, 4, 2, 0, 5, 0, 1, 3, 1, 9, 1, 6, 0, 1, 1, 8, 0, 0, 7, 7, 6, 3, 6, 0, 7, 3, 5, 0, 1, 0, 1, 8, 3, 5, 6, 3, 0, 6, 7, 1, 1, 5, 8, 1, 9, 3, 8, 1, 3, 7, 6, 7, 1, 1, 6, 1, 9, 3, 0, 1, 1, 3, 4, 5, 6, 7, 0, 1, 1, 3, 4, 5, 0, 1, 1, 8, 9, 1, 4, 0, 9, 5, 0, 8, 0, 4, 4, 1, 1, 2, 9, 3, 6, 7, 2, 3, 8, 1, 2, 9, 8, 8, 7, 1, 7, 1, 1, 0, 3, 4, 2, 6, 4, 3, 4, 2, 7, 4, 7, 1, 0, 6, 8, 5, 5, 5, 3, 5, 9, 7, 1, 8, 5, 9, 6, 9, 3, 0, 3, 8, 9, 1, 8, 1, 6, 0, 0, 1, 2, 3, 1, 5, 6, 7, 8, 4, 0, 1, 2, 3, 4, 5, 6, 7, 8, 9, 0, 1, 2, 3, 4, 5, 6, 3, 8, 9, 3, 5, 3, 2, 9, 3, 2, 1, 1, 5, 5, 3, 3, 2, 1, 3, 9, 7, 2, 5, 2, 8, 9, 1, 8, 8, 4, 8, 1, 0, 6, 7, 7, 8, 3, 5, 0, 6, 1, 5, 7, 1, 6, 1, 2, 5, 0, 3, 4, 7, 0, 3, 8, 7, 4, 8, 1, 8, 6, 5, 9, 0, 0, 0, 3, 3, 1, 6, 1, 1, 6, 6, 0, 2, 5, 1, 1, 3, 8, 6, 3, 9, 9, 5, 9, 3, 1, 8, 5, 6, 0, 7, 6, 2, 2, 0, 9, 1, 0, 1, 2, 3, 0, 5, 6, 3, 8, 9, 0, 1, 1, 7, 5, 6, 0, 1, 1, 3, 0, 5, 6, 8, 7, 1, 3, 1, 5, 0, 3, 5, 9, 9, 6, 0, 9, 0, 1, 3, 2, 1, 2, 3, 8, 3, 0, 6, 5, 6, 8, 1, 7, 1, 8, 1, 8, 0, 5, 3, 9, 2, 1, 9, 0, 1, 9, 6, 7, 9, 0, 4, 6, 1, 3, 3, 8, 7, 1, 9, 6, 5, 8, 3, 9, 0, 5, 7, 1, 6, 1, 0, 4, 3, 3, 0, 0, 0, 6, 2, 5, 0, 2, 3, 0, 6, 0, 0, 0, 0, 1, 4, 5, 6, 7, 8, 7, 0, 1, 2, 3, 7, 5, 6, 7, 8, 0, 1, 2, 3, 4, 5, 6, 7, 8, 9, 8, 7, 1, 3, 7, 5, 1, 8, 0, 7, 5, 9, 9, 0, 9, 1, 1, 5, 8, 8, 6, 3, 1, 1, 8, 3, 2, 6, 5, 6, 0, 0, 1, 0, 5, 3, 1, 7, 1, 1, 9, 6, 0, 4, 6, 1, 4, 3, 8, 7, 2, 9, 6, 5, 8, 3, 5, 7, 1, 6, 1, 0, 9, 6, 2, 3, 4, 1, 3, 4, 2, 6, 0, 0, 1, 0, 1, 2, 3, 4, 3, 6, 7, 8, 9, 0, 1, 2, 3, 4, 5, 6, 7, 8, 9, 0, 1, 1, 8, 4, 3, 6, 7, 8, 9, 8, 6, 5, 0, 6, 8, 9, 4, 1, 9, 5, 8, 0, 9, 8, 9, 1, 4, 0, 5, 5, 2, 1, 5, 9, 0, 7, 6, 0, 1, 7, 0, 6, 8, 9, 5, 1, 7, 9, 8, 6, 0, 8, 1, 7, 7, 1, 3, 1, 3, 1, 4, 1, 0, 0, 7, 8, 4, 6, 4, 9, 3, 9, 4, 8, 2, 5, 6, 3, 6, 9, 6, 3, 0, 2, 4, 6, 9, 0, 1, 5, 5, 1, 8, 3, 9, 7, 8, 7, 2, 2, 5, 7, 9, 8, 2, 1, 9, 1, 3, 0, 1, 1, 3, 0, 5, 6, 3, 8, 3, 0, 1, 1, 3, 4, 5, 6, 3, 8, 3, 0, 1, 2, 3, 0, 5, 6, 7, 8, 3, 1, 8, 6, 5, 3, 0, 7, 0, 4, 1, 0, 1, 6, 7, 2, 3, 1, 2, 1, 2, 9, 6, 0, 1, 3, 0, 2, 7, 5, 3, 6, 1, 9, 1, 9, 0, 6, 0, 6, 0, 1, 0, 6, 1, 5, 8, 0, 3, 0, 1, 5, 0, 0, 8, 5, 3, 5, 7, 8, 1, 4, 8, 8, 5, 1, 5, 7, 1, 3, 8, 1, 0, 3, 5, 3, 6, 3, 0, 7, 7, 3, 0, 3, 4, 0, 3, 8, 6, 1, 0, 1, 2, 3, 0, 5, 6, 7, 8, 4, 0, 1, 2, 3, 0, 5, 6, 3, 8, 9, 0, 1, 2, 3, 0, 5, 6, 7, 8, 4, 0, 8, 3, 4, 5, 5, 2, 6, 8, 0, 4, 1, 3, 1, 2, 3, 5, 9, 6, 9, 1, 1, 1, 2, 9, 5, 6, 8, 1, 2, 0, 7, 3, 5, 8, 1, 9, 8, 9, 0, 4, 6, 7, 1, 3, 0, 5, 6, 0, 3, 6, 8, 7, 0, 4, 2, 4, 0, 3, 5, 4, 3, 0, 2, 8, 1, 5, 1, 0, 0, 0, 5, 6, 0, 3, 0, 0, 0, 3, 3, 5, 7, 0, 6, 0, 8, 8, 6, 3, 0, 6, 9, 9, 8, 2, 7, 3, 1, 0, 1, 0, 3, 0, 5, 6, 7, 8, 4, 0, 1, 2, 3, 0, 5, 6, 7, 8, 0, 1, 1, 3, 0, 3, 6, 3, 8, 2, 1, 7, 2, 5, 0, 8, 0, 1, 7, 3, 8, 3, 6, 0, 2, 2, 6, 6, 1, 0, 8, 8, 3, 7, 0, 3, 3, 3, 3, 0, 5, 0, 3, 3, 8, 0, 1, 1, 9, 7, 4, 3, 7, 3, 3, 0, 1, 5, 3, 6, 6, 3, 3, 2, 5, 9, 9, 8, 1, 1, 0, 6, 0, 9, 6, 8, 8, 5, 6, 1, 1, 9, 8, 9, 2, 3, 3, 5, 9, 4, 2, 1, 9, 3, 9, 1, 0, 6, 6, 1, 0, 0, 1, 2, 3, 0, 7, 8, 9, 0, 1, 2, 3, 7, 8, 9, 0, 1, 2, 3, 4, 7, 8, 9, 5, 3, 0, 3, 1, 8, 7, 6, 0, 0, 2, 6, 8, 3, 2, 8, 1, 2, 0, 1, 1, 0, 4, 0, 5, 8, 0, 6, 2, 3, 1, 5, 1, 8, 5, 9, 4, 0, 7, 5, 8, 8, 3, 8, 9, 2, 6, 2, 5, 3, 1, 7, 3, 0, 1, 9, 7, 6, 0, 3, 9, 2, 8, 1, 0, 3, 5, 2, 9, 2, 5, 8, 9, 5, 0, 1, 2, 4, 5, 6, 7, 1, 2, 3, 0, 5, 6, 7, 1, 2, 3, 0, 5, 1, 0, 0, 5, 6, 6, 3, 4, 4, 2, 7, 1, 0, 6, 4, 8, 7, 2, 3, 3, 9, 2, 0, 4, 3, 3, 9, 1, 5, 6, 3, 8, 7, 8, 4, 0, 1, 4, 0, 2, 0, 7, 8, 0, 7, 0, 6, 9, 3, 2, 8, 6, 7, 3, 1, 5, 1, 0, 8, 1, 6, 7, 2, 9, 7, 9, 5, 8, 6, 2, 6, 2, 8, 1, 7, 5, 0, 1, 1, 3, 9, 0, 9, 1, 8, 6, 8, 5, 0, 1, 2, 9, 1, 5, 6, 3, 5, 9, 0, 1, 2, 3, 1, 7, 8, 7, 5, 1, 7, 8, 9, 9, 8, 4, 8, 0, 1, 7, 7, 3, 3, 3, 6, 6, 6, 1, 9, 0, 1, 3, 6, 3, 2, 1, 7, 1, 3, 4, 1, 7, 6, 8, 4, 1, 4, 3, 6, 4, 6, 1, 4, 1, 7, 2, 4, 4, 0, 1, 2, 3, 0, 5, 4, 1, 8, 9, 0, 1, 2, 3, 4, 5, 6, 9, 0, 1, 2, 3, 4, 1, 8, 1, 3, 5, 1, 7, 7, 0, 1, 4, 8, 3, 4, 0, 3, 0, 7, 4, 1, 2, 3, 5, 9, 1, 6, 0, 1, 0, 0, 1, 7, 7, 1, 1, 4, 0, 4, 7, 3, 1, 8, 0, 3, 7, 4, 0, 4, 9, 2, 4, 5, 8, 6, 9, 0, 4, 0, 6, 6, 9, 2, 0, 9, 5, 1, 3, 7, 6, 9, 3, 0, 2, 2, 0, 1, 1, 3, 4, 5, 6, 7, 8, 9, 0, 1, 1, 3, 4, 5, 6, 3, 8, 9, 0, 1, 1, 3, 4, 5, 6, 7, 8, 9, 1, 1, 7, 1, 5, 0, 8, 0, 1, 7, 8, 8, 3, 0, 6, 0, 1, 7, 6, 4, 1, 1, 8, 8, 7, 7, 1, 3, 7, 3, 7, 1, 5, 1, 3, 3, 8, 0, 5, 1, 1, 1, 9, 7, 4, 3, 7, 3, 3, 0, 1, 5, 5, 6, 3, 1, 5, 1, 5, 9, 4, 8, 4, 1, 0, 6, 0, 7, 6, 8, 8, 5, 6, 1, 1, 4, 8, 9, 2, 3, 5, 5, 9, 4, 2, 1, 9, 4, 9, 1, 3, 9, 1, 0, 6, 0, 4, 0, 4, 0, 1, 1, 3, 1, 5, 6, 7, 8, 9, 0, 1, 2, 3, 0, 5, 6, 7, 9, 9, 0, 1, 2, 3, 1, 5, 4, 7, 8, 9, 3, 8, 0, 7, 1, 0, 7, 5, 5, 6, 9, 0, 1, 0, 0, 8, 3, 4, 3, 1, 5, 0, 0, 9, 5, 3, 1, 4, 3, 7, 6, 9, 2, 1, 5, 7, 2, 6, 0, 9, 1, 9, 1, 1, 2, 2, 5, 8, 1, 3, 2, 9, 4, 3, 8, 2, 2, 1, 1, 8, 6, 5, 1, 6, 7, 1, 1, 3, 9, 3, 8, 7, 5, 7, 0, 7, 4, 8, 3, 5, 0, 6, 6, 3, 7, 6, 4, 4, 1, 8, 4, 1, 6, 6, 6, 0, 1, 2, 3, 1, 5, 6, 7, 8, 1, 0, 1, 2, 3, 0, 5, 6, 7, 8, 9, 0, 1, 2, 3, 0, 5, 6, 7, 8, 4, 7, 0, 3, 4, 0, 1, 1, 9, 5, 1, 0, 2, 9, 9, 0, 3, 7, 8, 2, 1, 1, 3, 3, 6, 9, 9, 5, 8, 6, 7, 0, 6, 8, 2, 6, 3, 9, 3, 1, 9, 6, 1, 7, 4, 8, 8, 9, 0, 3, 3, 9, 0, 5, 2, 4, 4, 1, 0, 3, 7, 5, 8, 7, 7, 8, 2, 9, 1, 1, 1, 6, 4, 2, 5, 2, 3, 6, 6, 5, 0, 0, 2, 8, 1, 6, 1, 0, 4, 3, 1, 6, 1, 9, 0, 1, 1, 5, 6, 7, 8, 9, 1, 1, 3, 4, 5, 6, 7, 0, 1, 1, 3, 4, 5, 6, 7, 8, 9, 8, 4, 0, 0, 7, 1, 1, 3, 7, 6, 6, 3, 2, 6, 3, 3, 3, 1, 4, 7, 8, 0, 3, 1, 9, 0, 1, 9, 1, 2, 4, 0, 1, 5, 8, 2, 9, 1, 7, 6, 5, 5, 7, 7, 8, 2, 9, 1, 5, 2, 3, 0, 3, 1, 9, 0, 9, 3, 6, 7, 7, 0, 1, 0, 5, 8, 2, 7, 7, 0, 1, 2, 3, 1, 5, 6, 7, 8, 9, 0, 1, 2, 3, 4, 5, 6, 3, 8, 9, 0, 1, 2, 3, 4, 5, 6, 3, 8, 9, 1, 3, 4, 8, 1, 5, 6, 5, 7, 2, 8, 4, 3, 3, 8, 6, 5, 1, 0, 9, 1, 3, 2, 9, 1, 5, 1, 3, 1, 2, 3, 0, 4, 4, 3, 7, 6, 9, 0, 4, 8, 1, 1, 0, 6, 1, 2, 6, 9, 2, 2, 3, 5, 5, 1, 3, 7, 7, 9, 4, 2, 4, 1, 7, 0, 1, 3, 1, 0, 0, 8, 8, 8, 5, 1, 3, 7, 4, 4, 8, 8, 9, 0, 9, 8, 9, 0, 2, 6, 5, 4, 7, 4, 7, 5, 4, 1, 3, 5, 3, 1, 2, 3, 4, 5, 6, 1, 2, 3, 4, 6, 0, 1, 2, 1, 5, 6, 7, 8, 1, 7, 2, 4, 1, 4, 1, 4, 9, 6, 8, 4, 5, 3, 3, 8, 9, 3, 3, 5, 6, 7, 0, 6, 1, 6, 8, 7, 0, 1, 5, 0, 8, 5, 0, 1, 5, 8, 4, 7, 3, 9, 7, 6, 9, 1, 9, 0, 6, 7, 1, 0, 3, 9, 2, 4, 5, 5, 3, 7, 5, 3, 1, 5, 2, 2, 3, 0, 2, 9, 4, 9, 7, 0, 2, 7, 4, 9, 9, 2, 5, 9, 8, 3, 8, 6, 7, 4, 0, 1, 1, 3, 1, 3, 6, 3, 8, 9, 0, 1, 2, 3, 0, 5, 4, 7, 8, 4, 0, 1, 2, 3, 2, 5, 4, 4, 8, 7, 0, 0, 1, 8, 6, 5, 5, 3, 1, 8, 6, 6, 6, 6, 0, 3, 8, 3, 3, 0, 1, 9, 0, 5, 0, 1, 4, 1, 2, 5, 0, 1, 3, 8, 2, 9, 2, 7, 0, 2, 6, 5, 5, 9, 9, 1, 1, 5, 4, 4, 8, 2, 4, 0, 3, 1, 9, 0, 9, 3, 6, 8, 7, 0, 1, 0, 5, 8, 2, 7, 7, 0, 1, 2, 3, 0, 5, 6, 7, 8, 9, 0, 1, 2, 3, 0, 5, 8, 9, 0, 1, 2, 3, 2, 5, 6, 7, 8, 9, 1, 1, 2, 1, 3, 9, 9, 8, 5, 3, 3, 0, 7, 7, 5, 7, 9, 9, 4, 7, 0, 3, 4, 1, 5, 8, 1, 1, 8, 4, 1, 8, 6, 6, 1, 6, 0, 5, 5, 3, 3, 5, 7, 2, 5, 9, 6, 9, 2, 6, 2, 1, 2, 0, 8, 3, 8, 3, 0, 8, 3, 4, 9, 5, 0, 9, 7, 0, 0, 1, 6, 0, 9, 1, 2, 1, 7, 2, 8, 3, 5, 1, 1, 8, 3, 8, 6, 1, 0, 2, 1, 4, 0, 1, 2, 3, 1, 5, 6, 7, 8, 4, 0, 1, 2, 3, 0, 5, 6, 3, 8, 9, 0, 1, 1, 3, 4, 5, 6, 7, 8, 9, 7, 6, 1, 4, 6, 1, 3, 1, 8, 7, 8, 4, 9, 8, 3, 1, 2, 8, 0, 8, 5, 6, 5, 0, 1, 0, 1, 1, 1, 9, 6, 8, 2, 1, 0, 6, 5, 0, 9, 4, 6, 3, 9, 3, 7, 1, 8, 3, 8, 1, 9, 5, 5, 0, 1, 1, 9, 8, 1, 6, 0, 4, 5, 0, 3, 1, 3, 6, 7, 5, 9, 4, 3, 0, 3, 1, 0, 1, 0, 0, 9, 0, 1, 0, 3, 5, 6, 3, 8, 0, 1, 2, 3, 5, 6, 7, 8, 9, 0, 1, 0, 2, 5, 6, 7, 8, 9, 9, 4, 0, 9, 0, 1, 5, 8, 8, 0, 9, 3, 2, 7, 8, 0, 4, 1, 0, 0, 9, 0, 0, 0, 5, 0, 1, 6, 9, 3, 0, 9, 1, 6, 0, 1, 1, 8, 7, 7, 6, 2, 6, 0, 1, 2, 0, 1, 9, 0, 6, 7, 1, 0, 5, 8, 1, 6, 0, 8, 1, 6, 8, 7, 1, 6, 2, 9, 3, 0, 1, 2, 3, 0, 5, 6, 7, 8, 9, 0, 1, 2, 3, 0, 5, 6, 7, 8, 9, 0, 1, 0, 3, 1, 3, 6, 7, 8, 4, 8, 9, 3, 7, 0, 3, 1, 6, 8, 1, 1, 5, 6, 0, 1, 3, 8, 1, 3, 1, 3, 4, 7, 2, 0, 5, 0, 1, 9, 1, 3, 2, 3, 5, 3, 3, 8, 2, 9, 9, 7, 1, 1, 9, 0, 7, 8, 3, 1, 8, 1, 3, 8, 0, 9, 6, 2, 8, 0, 1, 0, 6, 0, 3, 8, 9, 0, 7, 2, 3, 0, 5, 5, 0, 8, 5, 0, 6, 6, 6, 7, 9, 1, 8, 2, 1, 5, 3, 0, 3, 9, 0, 0, 0, 0, 1, 1, 3, 4, 5, 6, 7, 8, 9, 0, 1, 1, 3, 4, 5, 6, 7, 8, 9, 0, 1, 1, 3, 4, 3, 6, 9, 0, 1, 3, 1, 5, 1, 8, 4, 9, 3, 4, 6, 8, 0, 1, 1, 9, 2, 6, 6, 8, 7, 4, 2, 1, 7, 0, 2, 1, 0, 3, 6, 0, 1, 2, 3, 0, 5, 6, 7, 8, 9, 0, 1, 0, 3, 0, 5, 6, 7, 8, 7, 0, 1, 1, 3, 1, 5, 4, 7, 8, 9, 8, 6, 5, 9, 7, 0, 1, 3, 4, 3, 8, 5, 1, 3, 0, 3, 0, 1, 2, 1, 3, 0, 6, 5, 3, 0, 7, 1, 7, 4, 6, 4, 0, 5, 9, 9, 8, 1, 5, 3, 1, 7, 0, 7, 6, 5, 4, 0, 0, 5, 6, 2, 0, 6, 3, 7, 7, 4, 4, 3, 9, 1, 8, 9, 6, 0, 9, 5, 3, 8, 8, 7, 1, 0, 0, 4, 8, 5, 2, 3, 7, 0, 1, 7, 1, 5, 1, 7, 0, 8, 6, 2, 1, 6, 8, 8, 0, 1, 7, 9, 4, 7, 8, 9, 0, 1, 2, 3, 4, 4, 7, 8, 9, 0, 1, 2, 3, 4, 7, 8, 9, 1, 4, 5, 3, 3, 0, 9, 5, 4, 5, 0, 4, 4, 6, 7, 0, 7, 7, 1, 6, 9, 1, 3, 6, 2, 3, 8, 2, 3, 8, 9, 5, 8, 8, 7, 1, 7, 1, 1, 0, 3, 4, 2, 6, 0, 7, 4, 2, 7, 4, 2, 9, 2, 7, 9, 2, 1, 6, 6, 5, 3, 4, 8, 5, 9, 6, 9, 0, 6, 3, 0, 8, 1, 6, 0, 0, 1, 2, 3, 1, 5, 6, 7, 0, 1, 0, 3, 0, 3, 8, 7, 0, 1, 2, 3, 0, 7, 1, 5, 1, 6, 1, 3, 9, 9, 0, 9, 7, 1, 4, 1, 3, 6, 2, 0, 9, 8, 4, 5, 7, 0, 0, 1, 2, 4, 3, 2, 0, 1, 3, 7, 4, 0, 7, 7, 3, 9, 8, 0, 3, 8, 2, 8, 3, 5, 8, 0, 5, 4, 3, 1, 3, 1, 7, 9, 6, 1, 0, 9, 1, 3, 3, 3, 9, 1, 6, 0, 3, 9, 8, 0, 1, 8, 6, 4, 1, 5, 5, 6, 5, 0, 1, 2, 3, 4, 5, 6, 7, 6, 9, 0, 1, 2, 3, 4, 5, 6, 7, 8, 9, 0, 1, 1, 3, 4, 5, 4, 7, 8, 9, 6, 9, 7, 0, 2, 3, 0, 3, 8, 5, 1, 3, 0, 1, 2, 1, 3, 2, 0, 7, 1, 6, 0, 0, 3, 9, 9, 8, 9, 5, 3, 1, 7, 4, 7, 0, 0, 6, 6, 6, 3, 3, 9, 2, 6, 9, 8, 7, 1, 4, 0, 0, 8, 5, 1, 3, 9, 0, 1, 9, 1, 5, 1, 7, 6, 1, 2, 1, 6, 8, 0, 1, 1, 3, 4, 5, 6, 3, 8, 9, 0, 1, 2, 3, 4, 5, 6, 7, 8, 0, 1, 2, 3, 5, 6, 3, 8, 1, 0, 0, 5, 6, 6, 3, 0, 0, 2, 8, 1, 0, 6, 0, 9, 7, 2, 9, 2, 0, 9, 3, 3, 9, 1, 5, 2, 3, 1, 6, 7, 3, 7, 8, 0, 0, 0, 4, 0, 2, 4, 7, 8, 0, 7, 0, 6, 9, 3, 2, 0, 8, 6, 0, 5, 7, 5, 1, 0, 8, 1, 6, 7, 2, 9, 7, 9, 5, 6, 5, 2, 6, 2, 8, 1, 7, 5, 5, 7, 3, 5, 0, 1, 1, 3, 8, 0, 9, 0, 5, 1, 8, 6, 8, 9, 0, 1, 2, 3, 1, 5, 6, 7, 8, 4, 0, 1, 2, 3, 0, 5, 6, 7, 8, 9, 0, 1, 2, 3, 0, 5, 6, 7, 8, 4, 3, 5, 3, 2, 7, 3, 1, 1, 1, 5, 5, 1, 3, 1, 1, 3, 9, 7, 1, 1, 1, 8, 9, 1, 8, 8, 7, 8, 1, 0, 0, 6, 7, 7, 8, 1, 5, 0, 6, 1, 5, 7, 0, 6, 1, 2, 5, 0, 7, 9, 9, 0, 3, 0, 0, 8, 0, 1, 8, 6, 5, 9, 0, 0, 0, 3, 3, 1, 6, 0, 6, 0, 1, 5, 0, 1, 3, 8, 6, 3, 9, 9, 5, 9, 3, 3, 8, 5, 6, 0, 7, 6, 1, 2, 0, 9, 0, 0, 1, 1, 3, 0, 5, 4, 7, 8, 9, 0, 1, 2, 3, 4, 5, 6, 7, 8, 9, 0, 1, 1, 3, 4, 5, 6, 7, 8, 9, 6, 1, 1, 6, 0, 7, 5, 5, 0, 7, 0, 9, 3, 9, 3, 8, 2, 0, 9, 5, 6, 0, 1, 0, 6, 5, 3, 5, 3, 8, 0, 0, 3, 0, 1, 5, 3, 0, 8, 3, 0, 6, 2, 7, 8, 1, 7, 1, 3, 8, 5, 0, 1, 0, 4, 7, 6, 7, 4, 1, 4, 2, 6, 1, 1, 9, 8, 0, 4, 9, 4, 4, 9, 6, 2, 3, 3, 1, 9, 2, 2, 5, 3, 7, 8, 0, 1, 2, 3, 4, 7, 8, 9, 0, 1, 2, 3, 0, 4, 8, 9, 0, 1, 3, 8, 9, 8, 4, 2, 6, 1, 3, 5, 4, 8, 2, 6, 1, 3, 4, 5, 9, 2, 0, 9, 9, 4, 9, 7, 3, 8, 3, 4, 4, 4, 8, 5, 8, 1, 6, 6, 2, 3, 1, 3, 2, 7, 3, 1, 4, 0, 1, 1, 3, 5, 0, 7, 8, 1, 5, 1, 0, 6, 0, 0, 1, 7, 1, 6, 6, 4, 0, 4, 6, 1, 1, 0, 1, 3, 3, 4, 2, 2, 3, 4, 5, 6, 2, 5, 1, 2, 2, 8, 6, 3, 9, 2, 1, 9, 3, 9, 6, 1, 7, 2, 0, 1, 5, 2, 0, 0, 1, 5, 4, 8, 2, 7, 7, 8, 4, 1, 1, 6, 1, 0, 6, 7, 8, 3, 9, 6, 3, 0, 1, 2, 3, 4, 5, 6, 3, 8, 9, 0, 1, 1, 3, 4, 5, 6, 3, 8, 9, 0, 1, 2, 3, 4, 5, 6, 3, 8, 9, 1, 6, 8, 9, 9, 0, 1, 1, 0, 4, 3, 7, 4, 4, 4, 0, 3, 8, 2, 5, 8, 1, 1, 3, 5, 3, 8, 5, 1, 5, 1, 1, 6, 2, 1, 3, 8, 4, 4, 1, 6, 2, 5, 5, 0, 1, 8, 0, 6, 8, 1, 3, 9, 1, 9, 1, 6, 3, 6, 6, 8, 3, 1, 9, 1, 1, 3, 3, 0, 5, 5, 8, 0, 3, 3, 9, 2, 0, 2, 3, 9, 1, 3, 8, 0, 3, 5, 3, 6, 0, 1, 2, 3, 4, 5, 6, 1, 8, 9, 0, 1, 2, 3, 4, 5, 6, 1, 8, 7, 0, 1, 1, 3, 4, 3, 8, 4, 6, 9, 2, 6, 4, 3, 8, 4, 2, 4, 3, 9, 3, 0, 0, 1, 0, 4, 2, 6, 3, 5, 3, 0, 3, 0, 1, 5, 3, 0, 8, 3, 0, 6, 1, 3, 8, 0, 9, 1, 6, 1, 1, 9, 6, 9, 4, 9, 4, 6, 1, 1, 2, 5, 3, 1, 8, 0, 1, 2, 4, 5, 6, 7, 8, 9, 0, 1, 3, 0, 5, 6, 3, 5, 0, 1, 3, 0, 7, 8, 9, 7, 5, 5, 1, 9, 9, 7, 1, 0, 0, 5, 9, 3, 1, 5, 2, 2, 3, 6, 8, 3, 2, 0, 0, 6, 1, 7, 5, 8, 6, 2, 9, 4, 8, 8, 7, 1, 0, 8, 7, 3, 5, 8, 5, 3, 1, 6, 1, 1, 5, 5, 0, 7, 2, 3, 6, 1, 1, 2, 4, 1, 5, 4, 2, 0, 4, 8, 6, 1, 4, 0, 2, 5, 6, 9, 3, 6, 3, 6, 0, 1, 2, 3, 0, 5, 6, 3, 8, 9, 0, 1, 2, 3, 4, 5, 6, 3, 8, 9, 0, 1, 1, 3, 5, 6, 3, 8, 1, 0, 9, 5, 7, 5, 1, 8, 6, 9, 0, 1, 1, 9, 3, 8, 0, 0, 7, 0, 1, 9, 2, 8, 3, 8, 2, 3, 9, 6, 0, 6, 5, 5, 3, 3, 3, 9, 8, 1, 1, 0, 6, 1, 0, 0, 6, 0, 1, 1, 3, 2, 7, 7, 8, 6, 7, 8, 4, 6, 0, 2, 0, 7, 0, 3, 6, 8, 7, 1, 5, 9, 9, 3, 7, 1, 4, 9, 4, 3, 6, 1, 2, 5, 3, 1, 5, 5, 9, 0, 1, 7, 2, 0, 1, 3, 3, 4, 5, 6, 7, 8, 9, 0, 1, 2, 3, 4, 5, 6, 7, 9, 9, 0, 1, 1, 3, 4, 5, 6, 7, 8, 4, 1, 0, 1, 2, 3, 5, 3, 0, 0, 0, 0, 6, 9, 6, 6, 5, 7, 2, 3, 4, 9, 4, 1, 1, 0, 7, 4, 5, 3, 1, 3, 1, 0, 2, 0, 9, 9, 6, 1, 8, 3, 3, 7, 3, 9, 8, 8, 0, 1, 7, 6, 1, 1, 9, 8, 7, 8, 8, 4, 2, 1, 3, 9, 3, 3, 5, 5, 0, 7, 4, 5, 6, 5, 1, 2, 1, 1, 2, 8, 1, 6, 1, 5, 0, 1, 1, 3, 0, 5, 6, 3, 8, 9, 0, 1, 2, 3, 0, 5, 4, 7, 8, 9, 0, 1, 2, 3, 1, 5, 6, 7, 8, 8, 0, 6, 0, 1, 1, 3, 7, 9, 9, 7, 1, 9, 1, 7, 1, 1, 0, 0, 1, 2, 5, 7, 1, 3, 3, 3, 1, 6, 9, 7, 1, 3, 0, 7, 6, 0, 8, 9, 4, 3, 5, 9, 8, 1, 5, 9, 5, 4, 5, 3, 8, 1, 0, 3, 5, 1, 0, 0, 1, 7, 8, 9, 6, 8, 8, 2, 3, 5, 1, 2, 7, 5, 1, 0, 1, 2, 3, 4, 5, 6, 1, 8, 9, 0, 1, 3, 3, 1, 5, 6, 7, 8, 7, 0, 1, 3, 3, 4, 6, 6, 7, 5, 9, 7, 1, 6, 1, 4, 0, 9, 9, 3, 1, 8, 2, 7, 5, 8, 6, 3, 2, 2, 0, 5, 5, 6, 0, 3, 8, 1, 0, 3, 0, 4, 7, 4, 7, 0, 9, 0, 4, 1, 7, 1, 6, 6, 5, 6, 8, 8, 1, 6, 4, 4, 9, 5, 3, 1, 4, 3, 0, 1, 6, 6, 1, 1, 3, 2, 1, 0, 0, 1, 2, 3, 0, 7, 8, 9, 0, 1, 8, 3, 4, 5, 6, 7, 8, 0, 1, 2, 3, 0, 7, 8, 4, 0, 8, 3, 9, 5, 5, 2, 6, 8, 4, 1, 7, 1, 3, 3, 5, 6, 4, 1, 1, 1, 1, 1, 2, 0, 7, 7, 5, 8, 2, 9, 8, 5, 7, 3, 0, 6, 8, 7, 0, 0, 8, 7, 7, 5, 0, 3, 4, 2, 8, 1, 5, 1, 0, 2, 3, 3, 5, 7, 0, 6, 8, 6, 3, 9, 9, 6, 8, 7, 7, 1, 0, 1, 7, 8, 9, 0, 1, 2, 3, 4, 5, 6, 3, 8, 0, 1, 2, 3, 4, 3, 8, 9, 3, 8, 6, 4, 1, 7, 3, 8, 4, 4, 7, 0, 1, 9, 2, 8, 7, 5, 2, 6, 0, 6, 5, 3, 3, 8, 9, 1, 4, 0, 6, 1, 0, 0, 6, 2, 1, 1, 7, 7, 8, 1, 6, 0, 7, 0, 3, 6, 8, 7, 1, 5, 2, 1, 9, 4, 3, 6, 4, 1, 3, 3, 6, 5, 0, 1, 2, 3, 0, 5, 6, 7, 8, 9, 0, 1, 2, 3, 1, 5, 6]\n"
     ]
    }
   ],
   "source": [
    "# converting the prediction probabilities to class label for all test data points\n",
    "y_pred_labels = [np.argmax(i) for i in y_pred]\n",
    "print(y_pred_labels)"
   ]
  },
  {
   "cell_type": "markdown",
   "metadata": {},
   "source": [
    "y_pred -> True Labels\n",
    "\n",
    "y_pred_labels -> Predicted Labels"
   ]
  },
  {
   "cell_type": "markdown",
   "metadata": {},
   "source": [
    "**Confusion Matrix**"
   ]
  },
  {
   "cell_type": "code",
   "execution_count": 23,
   "metadata": {},
   "outputs": [],
   "source": [
    "conf_mat = confusion_matrix(y_test, y_pred_labels)"
   ]
  },
  {
   "cell_type": "code",
   "execution_count": 25,
   "metadata": {},
   "outputs": [
    {
     "name": "stdout",
     "output_type": "stream",
     "text": [
      "[[ 958    1    0    3    1    4    7    4    2    0]\n",
      " [   0 1127    0    3    0    1    2    1    1    0]\n",
      " [  37  273  670   26    0    1    5    9   10    1]\n",
      " [   1    5    7  975    0    5    0    4    4    9]\n",
      " [ 243  148   19    1  532    1    3    3    0   32]\n",
      " [   2    1    0   38    0  832    8    1    4    6]\n",
      " [  12    8    4    1   38   12  877    1    5    0]\n",
      " [   1   38   21  129   26    4    0  790    4   15]\n",
      " [   3    7    5   27    6   13    7    7  883   16]\n",
      " [   5   10    0   12   90    4    0   51    2  835]]\n"
     ]
    }
   ],
   "source": [
    "print(conf_mat)"
   ]
  },
  {
   "cell_type": "code",
   "execution_count": 26,
   "metadata": {},
   "outputs": [
    {
     "data": {
      "text/plain": [
       "Text(0.5, 47.7222222222222, 'Predicted Labels')"
      ]
     },
     "execution_count": 26,
     "metadata": {},
     "output_type": "execute_result"
    },
    {
     "data": {
      "image/png": "[encoded data removed]",
      "text/plain": [
       "<Figure size 1500x700 with 2 Axes>"
      ]
     },
     "metadata": {},
     "output_type": "display_data"
    }
   ],
   "source": [
    "plt.figure(figsize=(15,7))\n",
    "sns.heatmap(conf_mat, annot=True, fmt='d', cmap='Blues')\n",
    "plt.ylabel('True Labels')\n",
    "plt.xlabel('Predicted Labels')"
   ]
  },
  {
   "cell_type": "markdown",
   "metadata": {},
   "source": [
    "Building a Predictive System"
   ]
  },
  {
   "cell_type": "code",
   "execution_count": 27,
   "metadata": {},
   "outputs": [],
   "source": [
    "input_image_path = 'MNIST_digit.png'\n",
    "\n",
    "input_image = cv2.imread(input_image_path)"
   ]
  },
  {
   "cell_type": "code",
   "execution_count": 28,
   "metadata": {},
   "outputs": [
    {
     "data": {
      "text/plain": [
       "numpy.ndarray"
      ]
     },
     "execution_count": 28,
     "metadata": {},
     "output_type": "execute_result"
    }
   ],
   "source": [
    "type(input_image)"
   ]
  },
  {
   "cell_type": "code",
   "execution_count": 29,
   "metadata": {},
   "outputs": [
    {
     "name": "stdout",
     "output_type": "stream",
     "text": [
      "[[[0 0 0]\n",
      "  [0 0 0]\n",
      "  [0 0 0]\n",
      "  ...\n",
      "  [0 0 0]\n",
      "  [0 0 0]\n",
      "  [0 0 0]]\n",
      "\n",
      " [[0 0 0]\n",
      "  [0 0 0]\n",
      "  [0 0 0]\n",
      "  ...\n",
      "  [0 0 0]\n",
      "  [0 0 0]\n",
      "  [0 0 0]]\n",
      "\n",
      " [[0 0 0]\n",
      "  [0 0 0]\n",
      "  [0 0 0]\n",
      "  ...\n",
      "  [0 0 0]\n",
      "  [0 0 0]\n",
      "  [0 0 0]]\n",
      "\n",
      " ...\n",
      "\n",
      " [[0 0 0]\n",
      "  [0 0 0]\n",
      "  [0 0 0]\n",
      "  ...\n",
      "  [0 0 0]\n",
      "  [0 0 0]\n",
      "  [0 0 0]]\n",
      "\n",
      " [[0 0 0]\n",
      "  [0 0 0]\n",
      "  [0 0 0]\n",
      "  ...\n",
      "  [0 0 0]\n",
      "  [0 0 0]\n",
      "  [0 0 0]]\n",
      "\n",
      " [[0 0 0]\n",
      "  [0 0 0]\n",
      "  [0 0 0]\n",
      "  ...\n",
      "  [0 0 0]\n",
      "  [0 0 0]\n",
      "  [0 0 0]]]\n"
     ]
    }
   ],
   "source": [
    "print(input_image)"
   ]
  },
  {
   "cell_type": "code",
   "execution_count": 30,
   "metadata": {},
   "outputs": [
    {
     "data": {
      "image/png": "[encoded data removed]",
      "text/plain": [
       "<Figure size 640x480 with 1 Axes>"
      ]
     },
     "metadata": {},
     "output_type": "display_data"
    }
   ],
   "source": [
    "plt.imshow(input_image)\n",
    "plt.show()"
   ]
  },
  {
   "cell_type": "code",
   "execution_count": 31,
   "metadata": {},
   "outputs": [
    {
     "data": {
      "text/plain": [
       "(318, 318, 3)"
      ]
     },
     "execution_count": 31,
     "metadata": {},
     "output_type": "execute_result"
    }
   ],
   "source": [
    "input_image.shape"
   ]
  },
  {
   "cell_type": "code",
   "execution_count": 33,
   "metadata": {},
   "outputs": [],
   "source": [
    "grayscale = cv2.cvtColor(input_image, cv2.COLOR_RGB2GRAY)"
   ]
  },
  {
   "cell_type": "code",
   "execution_count": 34,
   "metadata": {},
   "outputs": [
    {
     "data": {
      "text/plain": [
       "(318, 318)"
      ]
     },
     "execution_count": 34,
     "metadata": {},
     "output_type": "execute_result"
    }
   ],
   "source": [
    "grayscale.shape"
   ]
  },
  {
   "cell_type": "code",
   "execution_count": 35,
   "metadata": {},
   "outputs": [],
   "source": [
    "input_image_resize = cv2.resize(grayscale, (28, 28))"
   ]
  },
  {
   "cell_type": "code",
   "execution_count": 36,
   "metadata": {},
   "outputs": [
    {
     "data": {
      "text/plain": [
       "(28, 28)"
      ]
     },
     "execution_count": 36,
     "metadata": {},
     "output_type": "execute_result"
    }
   ],
   "source": [
    "input_image_resize.shape"
   ]
  },
  {
   "cell_type": "code",
   "execution_count": 37,
   "metadata": {},
   "outputs": [
    {
     "data": {
      "image/png": "[encoded data removed]",
      "text/plain": [
       "<Figure size 640x480 with 1 Axes>"
      ]
     },
     "metadata": {},
     "output_type": "display_data"
    }
   ],
   "source": [
    "plt.imshow(input_image_resize)\n",
    "plt.show()"
   ]
  },
  {
   "cell_type": "code",
   "execution_count": 38,
   "metadata": {},
   "outputs": [],
   "source": [
    "image_reshaped = np.reshape(input_image_resize, [1, 28, 28])"
   ]
  },
  {
   "cell_type": "code",
   "execution_count": 39,
   "metadata": {},
   "outputs": [
    {
     "name": "stdout",
     "output_type": "stream",
     "text": [
      "1/1 [==============================] - 0s 69ms/step\n",
      "[[4.8519361e-12 6.4724779e-01 6.9046421e-11 1.0000000e+00 5.8260508e-04\n",
      "  9.9969250e-01 1.3922442e-12 5.0004941e-01 9.8877227e-01 9.8651421e-01]]\n"
     ]
    }
   ],
   "source": [
    "input_prediction = model.predict(image_reshaped)\n",
    "print(input_prediction)"
   ]
  },
  {
   "cell_type": "code",
   "execution_count": 40,
   "metadata": {},
   "outputs": [],
   "source": [
    "input_pred_label = np.argmax(input_prediction)"
   ]
  },
  {
   "cell_type": "code",
   "execution_count": 41,
   "metadata": {},
   "outputs": [
    {
     "name": "stdout",
     "output_type": "stream",
     "text": [
      "3\n"
     ]
    }
   ],
   "source": [
    "print(input_pred_label)"
   ]
  },
  {
   "cell_type": "markdown",
   "metadata": {},
   "source": [
    "Predictive System"
   ]
  },
  {
   "cell_type": "code",
   "execution_count": 45,
   "metadata": {},
   "outputs": [
    {
     "data": {
      "image/png": "[encoded data removed]",
      "text/plain": [
       "<Figure size 640x480 with 1 Axes>"
      ]
     },
     "metadata": {},
     "output_type": "display_data"
    },
    {
     "name": "stdout",
     "output_type": "stream",
     "text": [
      "1/1 [==============================] - 5s 5s/step\n",
      "The Handwritten Digit is recognised as  3\n"
     ]
    }
   ],
   "source": [
    "input_image_path = input('Path of the image to be predicted: ')\n",
    "\n",
    "input_image = cv2.imread(input_image_path)\n",
    "\n",
    "plt.imshow(input_image)\n",
    "plt.show()\n",
    "\n",
    "grayscale = cv2.cvtColor(input_image, cv2.COLOR_RGB2GRAY)\n",
    "\n",
    "input_image_resize = cv2.resize(grayscale, (28, 28))\n",
    "\n",
    "image_reshaped = np.reshape(input_image_resize, [1,28,28])\n",
    "\n",
    "input_prediction = model.predict(image_reshaped)\n",
    "\n",
    "input_pred_label = np.argmax(input_prediction)\n",
    "\n",
    "print('The Handwritten Digit is recognised as ', input_pred_label)"
   ]
  }
 ],
 "metadata": {
  "kernelspec": {
   "display_name": "tfnew",
   "language": "python",
   "name": "python3"
  },
  "language_info": {
   "codemirror_mode": {
    "name": "ipython",
    "version": 3
   },
   "file_extension": ".py",
   "mimetype": "text/x-python",
   "name": "python",
   "nbconvert_exporter": "python",
   "pygments_lexer": "ipython3",
   "version": "3.11.3"
  },
  "orig_nbformat": 4
 },
 "nbformat": 4,
 "nbformat_minor": 2
}
